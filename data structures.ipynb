{
 "cells": [
  {
   "cell_type": "markdown",
   "id": "3ff6c86f-36ee-4828-bbbf-4cf0dba0f57c",
   "metadata": {
    "editable": true,
    "slideshow": {
     "slide_type": ""
    },
    "tags": []
   },
   "source": [
    "# Data structures"
   ]
  },
  {
   "cell_type": "markdown",
   "id": "6e3a0ea6-a3c5-45db-8cbb-b2b9c5fd4111",
   "metadata": {},
   "source": [
    "## Lists\n",
    "\n",
    "### Methods\n",
    "**list.append(x)** :\n",
    "    Add an item to the end of the list. Equivalent to a[len(a):] = [x].\n",
    "\n",
    "\n",
    "**list.extend(iterable)** :\n",
    "    Extend the list by appending all the items from the iterable. Equivalent to a[len(a):] = iterable.\n",
    "\n",
    "\n",
    "**list.insert(i, x)** :\n",
    "    Insert an item at a given position. The first argument is the index of the element before which to insert, so a.insert(0, x) inserts at the front of the list, and a.insert(len(a), x) is equivalent to a. append(x).\n",
    "\n",
    "\n",
    "**list.remove(x)** :\n",
    "    Remove the first item from the list whose value is equal to x. It raises a ValueError if there is no such item.\n",
    "\n",
    "\n",
    "**list.pop([i])** :\n",
    "    Remove the item at the given position in the list, and return it. If no index is specified, `a.pop()` removes and returns the last item in the list. (The square brackets around the i in the method signature denote that the parameter is optional, not that you should type square brackets at that position. You will see this notation frequently in the Python Library Reference.)\n",
    "\n",
    "\n",
    "**list.clear()** :\n",
    "    Remove all items from the list. Equivalent to del a[:].\n",
    "\n",
    "\n",
    "**list.index(x[, start[, end ] ])** :\n",
    "    Return zero-based index in the list of the first item whose value is equal to x. Raises a ValueError if there is no such item. The optional arguments start and end are interpreted as in the slice notation and are used to limit the search to a particular subsequence of the list. The returned index is computed relative to the beginning of the full sequence rather than the start argument.\n",
    "\n",
    "\n",
    "**list.count(x)** :\n",
    "    Return the number of times x appears in the list.\n",
    "\n",
    "\n",
    "**list.sort(*, key=None, reverse=False)** :\n",
    "    Sort the items of the list in place (the arguments can be used for sort customization, see sorted() for their explanation).\n",
    "\n",
    "\n",
    "**list.reverse()** :\n",
    "    Reverse the elements of the list in place\n",
    "\n",
    "\n",
    "**list.copy()** :\n",
    "    Return a shallow copy of the list. Equivalent to a[:]."
   ]
  },
  {
   "cell_type": "code",
   "execution_count": 2,
   "id": "6563f653-a833-4973-8b3e-2e61056ae58b",
   "metadata": {},
   "outputs": [
    {
     "data": {
      "text/plain": [
       "2"
      ]
     },
     "execution_count": 2,
     "metadata": {},
     "output_type": "execute_result"
    }
   ],
   "source": [
    "fruits = ['orange', 'apple', 'pear', 'banana', 'kiwi', 'apple', 'banana']\n",
    "fruits.count('apple')"
   ]
  },
  {
   "cell_type": "code",
   "execution_count": 3,
   "id": "330dd71f-bc28-4488-8083-66567ff0a1ed",
   "metadata": {},
   "outputs": [
    {
     "data": {
      "text/plain": [
       "0"
      ]
     },
     "execution_count": 3,
     "metadata": {},
     "output_type": "execute_result"
    }
   ],
   "source": [
    "fruits.count('tangerine')"
   ]
  },
  {
   "cell_type": "code",
   "execution_count": 4,
   "id": "d5ae352c-206d-4ad8-b7d6-aed620400c33",
   "metadata": {},
   "outputs": [
    {
     "data": {
      "text/plain": [
       "3"
      ]
     },
     "execution_count": 4,
     "metadata": {},
     "output_type": "execute_result"
    }
   ],
   "source": [
    "fruits.index('banana')"
   ]
  },
  {
   "cell_type": "code",
   "execution_count": 5,
   "id": "4297e48d-f44e-4fb7-bb91-9414a8967d6e",
   "metadata": {},
   "outputs": [
    {
     "data": {
      "text/plain": [
       "6"
      ]
     },
     "execution_count": 5,
     "metadata": {},
     "output_type": "execute_result"
    }
   ],
   "source": [
    "fruits.index('banana',4) # Find next banana starting at position 4"
   ]
  },
  {
   "cell_type": "code",
   "execution_count": 6,
   "id": "5d40da10-a4d3-4eee-9fe7-bb4d0076b92a",
   "metadata": {},
   "outputs": [
    {
     "data": {
      "text/plain": [
       "['banana', 'apple', 'kiwi', 'banana', 'pear', 'apple', 'orange']"
      ]
     },
     "execution_count": 6,
     "metadata": {},
     "output_type": "execute_result"
    }
   ],
   "source": [
    "fruits.reverse()\n",
    "fruits"
   ]
  },
  {
   "cell_type": "code",
   "execution_count": 7,
   "id": "5922209c-7c07-4a09-a8ee-d9fce76ef2a7",
   "metadata": {},
   "outputs": [
    {
     "data": {
      "text/plain": [
       "['banana', 'apple', 'kiwi', 'banana', 'pear', 'apple', 'orange', 'grape']"
      ]
     },
     "execution_count": 7,
     "metadata": {},
     "output_type": "execute_result"
    }
   ],
   "source": [
    "fruits.append('grape')\n",
    "fruits"
   ]
  },
  {
   "cell_type": "code",
   "execution_count": 10,
   "id": "5d7f41a3-6c1a-492d-be61-30db584e37a3",
   "metadata": {},
   "outputs": [
    {
     "data": {
      "text/plain": [
       "['apple', 'apple', 'banana', 'banana', 'grape', 'kiwi', 'orange', 'pear']"
      ]
     },
     "execution_count": 10,
     "metadata": {},
     "output_type": "execute_result"
    }
   ],
   "source": [
    "fruits.sort()\n",
    "fruits"
   ]
  },
  {
   "cell_type": "code",
   "execution_count": 11,
   "id": "4f181862-5cdc-40a5-8ec8-379d91fc328f",
   "metadata": {},
   "outputs": [
    {
     "data": {
      "text/plain": [
       "'pear'"
      ]
     },
     "execution_count": 11,
     "metadata": {},
     "output_type": "execute_result"
    }
   ],
   "source": [
    "fruits.pop()"
   ]
  },
  {
   "cell_type": "markdown",
   "id": "3dc9687b-2db5-43f2-b59b-ce99600b6751",
   "metadata": {},
   "source": [
    "### Using lists as stacks\n",
    "The list methods make it very easy to use a list as a stack, where the last element added is the first element retrieved (“last-in, first-out”). To add an item to the top of the stack, use `append()`. To retrieve an item from the top of the stack, use `pop()` without an explicit index. . "
   ]
  },
  {
   "cell_type": "code",
   "execution_count": 17,
   "id": "cec8bf2d-453a-4bc1-9212-ef75c9df8602",
   "metadata": {},
   "outputs": [],
   "source": [
    "stack = [3,4,5]"
   ]
  },
  {
   "cell_type": "code",
   "execution_count": 18,
   "id": "ea3336d3-be56-4db8-bfd7-8dce802c9332",
   "metadata": {},
   "outputs": [
    {
     "data": {
      "text/plain": [
       "[3, 4, 5, 6, 7]"
      ]
     },
     "execution_count": 18,
     "metadata": {},
     "output_type": "execute_result"
    }
   ],
   "source": [
    "stack.append(6)\n",
    "stack.append(7)\n",
    "stack"
   ]
  },
  {
   "cell_type": "code",
   "execution_count": 19,
   "id": "e58768ae-9d05-4103-944b-f5fb7f04457d",
   "metadata": {},
   "outputs": [
    {
     "data": {
      "text/plain": [
       "7"
      ]
     },
     "execution_count": 19,
     "metadata": {},
     "output_type": "execute_result"
    }
   ],
   "source": [
    "stack.pop()"
   ]
  },
  {
   "cell_type": "code",
   "execution_count": 20,
   "id": "50ca55f2-d079-432f-90d2-b7ae11726f7b",
   "metadata": {},
   "outputs": [
    {
     "data": {
      "text/plain": [
       "[3, 4, 5, 6]"
      ]
     },
     "execution_count": 20,
     "metadata": {},
     "output_type": "execute_result"
    }
   ],
   "source": [
    "stack"
   ]
  },
  {
   "cell_type": "markdown",
   "id": "0027e2bd-363d-4c94-8034-8d15035f7105",
   "metadata": {},
   "source": [
    "### Using lists as Queues\n",
    "It is also possible to use a list as a queue, where the first element added is the first element retrieved (“first-in, first\u0002out”); however, lists are not efficient for this purpose. While appends and pops from the end of list are fast, doing inserts or pops from the beginning of a list is slow (because all of the other elements have to be shifted by one). To implement a queue, use `collections.deque` which was designed to have fast appends and pops from both ends."
   ]
  },
  {
   "cell_type": "code",
   "execution_count": 29,
   "id": "32af1f64-bc33-4fb5-9e0c-e7b2da1a9512",
   "metadata": {},
   "outputs": [
    {
     "data": {
      "text/plain": [
       "deque(['Eric', 'John', 'Michael', 'Terry'])"
      ]
     },
     "execution_count": 29,
     "metadata": {},
     "output_type": "execute_result"
    }
   ],
   "source": [
    "from collections import deque\n",
    "queue = deque(['Eric', 'John', 'Michael'])\n",
    "queue.append('Terry') # Terry arrives\n",
    "queue"
   ]
  },
  {
   "cell_type": "code",
   "execution_count": 30,
   "id": "8f297df7-8a86-443d-95f6-a21ef031ecea",
   "metadata": {},
   "outputs": [
    {
     "data": {
      "text/plain": [
       "deque(['Eric', 'John', 'Michael', 'Terry', 'Graham'])"
      ]
     },
     "execution_count": 30,
     "metadata": {},
     "output_type": "execute_result"
    }
   ],
   "source": [
    "queue.append('Graham') # Graham arrives\n",
    "queue"
   ]
  },
  {
   "cell_type": "code",
   "execution_count": 31,
   "id": "8ece7716-d019-469b-80cb-ea4154b0ef10",
   "metadata": {},
   "outputs": [
    {
     "data": {
      "text/plain": [
       "'Eric'"
      ]
     },
     "execution_count": 31,
     "metadata": {},
     "output_type": "execute_result"
    }
   ],
   "source": [
    "queue.popleft() # The first to arrive now leaves"
   ]
  },
  {
   "cell_type": "code",
   "execution_count": 32,
   "id": "f501df36-a18a-4048-8ccb-4677c5922b29",
   "metadata": {},
   "outputs": [
    {
     "data": {
      "text/plain": [
       "'John'"
      ]
     },
     "execution_count": 32,
     "metadata": {},
     "output_type": "execute_result"
    }
   ],
   "source": [
    "queue.popleft() # The second to arrive leaves"
   ]
  },
  {
   "cell_type": "code",
   "execution_count": 33,
   "id": "8f0f4692-c945-4cb1-9d16-87f5ff06430b",
   "metadata": {},
   "outputs": [
    {
     "data": {
      "text/plain": [
       "deque(['Michael', 'Terry', 'Graham'])"
      ]
     },
     "execution_count": 33,
     "metadata": {},
     "output_type": "execute_result"
    }
   ],
   "source": [
    "queue # Remaining queue in order of arrival"
   ]
  },
  {
   "cell_type": "markdown",
   "id": "139a31f8-a04d-40c9-8d61-d0c556369898",
   "metadata": {},
   "source": [
    "### List Comprehensions\n",
    "List comprehensions provide a concise way to create lists. Common applications are to make new lists where each element is the result of some operations applied to each member of another sequence or iterable, or to create a subsequence of those elements that satisfy a certain condition"
   ]
  },
  {
   "cell_type": "code",
   "execution_count": 36,
   "id": "1d65a284-4cf9-4f55-9ddf-054c66d4a090",
   "metadata": {},
   "outputs": [
    {
     "data": {
      "text/plain": [
       "[0, 1, 4, 9, 16, 25, 36, 49, 64, 81]"
      ]
     },
     "execution_count": 36,
     "metadata": {},
     "output_type": "execute_result"
    }
   ],
   "source": [
    "squares = []\n",
    "for x in range(10):\n",
    "    squares.append(x**2)\n",
    "\n",
    "squares"
   ]
  },
  {
   "cell_type": "code",
   "execution_count": 37,
   "id": "4cb7af83-aedd-4da2-aeea-963a98dfca00",
   "metadata": {},
   "outputs": [],
   "source": [
    "squares = list(map(lambda x: x**2, range(10)))"
   ]
  },
  {
   "cell_type": "code",
   "execution_count": 38,
   "id": "816a2860-571f-41d4-97b9-c6879dd8b4c6",
   "metadata": {},
   "outputs": [
    {
     "data": {
      "text/plain": [
       "[0, 1, 4, 9, 16, 25, 36, 49, 64, 81]"
      ]
     },
     "execution_count": 38,
     "metadata": {},
     "output_type": "execute_result"
    }
   ],
   "source": [
    "squares"
   ]
  },
  {
   "cell_type": "code",
   "execution_count": 41,
   "id": "40f6a122-9064-4bd7-86ba-606cf241b2af",
   "metadata": {},
   "outputs": [
    {
     "data": {
      "text/plain": [
       "[0, 1, 4, 9, 16, 25, 36, 49, 64, 81]"
      ]
     },
     "execution_count": 41,
     "metadata": {},
     "output_type": "execute_result"
    }
   ],
   "source": [
    "squares = [x**2 for x in range (10)]\n",
    "squares"
   ]
  },
  {
   "cell_type": "code",
   "execution_count": 42,
   "id": "a53059f3-8aa2-4639-84a1-f619bd87c56a",
   "metadata": {},
   "outputs": [
    {
     "data": {
      "text/plain": [
       "[(1, 3), (1, 4), (2, 3), (2, 1), (2, 4), (3, 1), (3, 4)]"
      ]
     },
     "execution_count": 42,
     "metadata": {},
     "output_type": "execute_result"
    }
   ],
   "source": [
    "[(x, y) for x in [1,2,3] for y in [3,1,4] if x != y]"
   ]
  },
  {
   "cell_type": "code",
   "execution_count": 43,
   "id": "2213ca15-7a6e-4581-8594-ee4c087ef392",
   "metadata": {},
   "outputs": [],
   "source": [
    "combs = []\n",
    "for x in [1,2,3]:\n",
    "    for y in [3,1,4]:\n",
    "        if x != y:\n",
    "            combs.append((x, y))"
   ]
  },
  {
   "cell_type": "code",
   "execution_count": 44,
   "id": "db50671b-c39f-41b0-9b9c-36b032e727cc",
   "metadata": {},
   "outputs": [
    {
     "data": {
      "text/plain": [
       "[(1, 3), (1, 4), (2, 3), (2, 1), (2, 4), (3, 1), (3, 4)]"
      ]
     },
     "execution_count": 44,
     "metadata": {},
     "output_type": "execute_result"
    }
   ],
   "source": [
    "combs"
   ]
  },
  {
   "cell_type": "markdown",
   "id": "1a5fc311-da3f-4385-9f04-053051d2abb5",
   "metadata": {},
   "source": [
    "### Nested List Comprehensions"
   ]
  },
  {
   "cell_type": "code",
   "execution_count": 45,
   "id": "64d2084f-ce6e-48b0-9663-977a11009682",
   "metadata": {},
   "outputs": [
    {
     "data": {
      "text/plain": [
       "[[1, 5, 9], [2, 6, 10], [3, 7, 11], [4, 8, 12]]"
      ]
     },
     "execution_count": 45,
     "metadata": {},
     "output_type": "execute_result"
    }
   ],
   "source": [
    "matrix = [\n",
    "    [1, 2, 3, 4],\n",
    "    [5, 6, 7, 8],\n",
    "    [9, 10, 11, 12],\n",
    "]\n",
    "# The following list comprehension will transpose rows and columns\n",
    "[[row[i] for row in matrix] for i in range(4)]"
   ]
  },
  {
   "cell_type": "code",
   "execution_count": 46,
   "id": "17f37bc6-e34a-4156-ab99-0dbaa45ff8ad",
   "metadata": {},
   "outputs": [
    {
     "data": {
      "text/plain": [
       "[[1, 5, 9], [2, 6, 10], [3, 7, 11], [4, 8, 12]]"
      ]
     },
     "execution_count": 46,
     "metadata": {},
     "output_type": "execute_result"
    }
   ],
   "source": [
    "transposed = []\n",
    "for i in range(4):\n",
    "    transposed.append([row[i] for row in matrix])\n",
    "    \n",
    "transposed"
   ]
  },
  {
   "cell_type": "code",
   "execution_count": 47,
   "id": "5e7d0d29-d79f-4c55-a647-00a859d029d9",
   "metadata": {},
   "outputs": [
    {
     "data": {
      "text/plain": [
       "[(1, 5, 9), (2, 6, 10), (3, 7, 11), (4, 8, 12)]"
      ]
     },
     "execution_count": 47,
     "metadata": {},
     "output_type": "execute_result"
    }
   ],
   "source": [
    "# In the real world, you should prefer built-in functions to complex flow statements. The zip() function would do a great job for this use case\n",
    "list(zip(*matrix))"
   ]
  },
  {
   "cell_type": "markdown",
   "id": "8dd6aabc-59d2-42fe-9528-88585fdb7ec4",
   "metadata": {},
   "source": [
    "## The `del` statement"
   ]
  },
  {
   "cell_type": "code",
   "execution_count": 58,
   "id": "a802880a-8059-4179-9eed-f882cecebba1",
   "metadata": {
    "editable": true,
    "slideshow": {
     "slide_type": ""
    },
    "tags": []
   },
   "outputs": [
    {
     "data": {
      "text/plain": [
       "[1, 66.25, 333, 333, 1234.5]"
      ]
     },
     "execution_count": 58,
     "metadata": {},
     "output_type": "execute_result"
    }
   ],
   "source": [
    "a = [-1, 1, 66.25, 333, 333, 1234.5]\n",
    "del a[0]\n",
    "a"
   ]
  },
  {
   "cell_type": "code",
   "execution_count": 59,
   "id": "c962cddb-f191-4891-ab27-613c6bbd2fd2",
   "metadata": {},
   "outputs": [
    {
     "data": {
      "text/plain": [
       "[1, 66.25, 1234.5]"
      ]
     },
     "execution_count": 59,
     "metadata": {},
     "output_type": "execute_result"
    }
   ],
   "source": [
    "del a[2:4]\n",
    "a"
   ]
  },
  {
   "cell_type": "code",
   "execution_count": 60,
   "id": "25f3ea3d-ddfc-43dc-97fb-442b4ab946f6",
   "metadata": {},
   "outputs": [
    {
     "data": {
      "text/plain": [
       "[]"
      ]
     },
     "execution_count": 60,
     "metadata": {},
     "output_type": "execute_result"
    }
   ],
   "source": [
    "del a[:]\n",
    "a"
   ]
  },
  {
   "cell_type": "code",
   "execution_count": 61,
   "id": "002a3706-d70b-49e8-b281-2d496aa7a060",
   "metadata": {},
   "outputs": [],
   "source": [
    "del a # deletes entire list"
   ]
  },
  {
   "cell_type": "code",
   "execution_count": 62,
   "id": "eff4d614-51b0-4258-86fa-ec19d2298c00",
   "metadata": {},
   "outputs": [
    {
     "ename": "NameError",
     "evalue": "name 'a' is not defined",
     "output_type": "error",
     "traceback": [
      "\u001b[0;31m---------------------------------------------------------------------------\u001b[0m",
      "\u001b[0;31mNameError\u001b[0m                                 Traceback (most recent call last)",
      "Cell \u001b[0;32mIn[62], line 1\u001b[0m\n\u001b[0;32m----> 1\u001b[0m \u001b[43ma\u001b[49m\n",
      "\u001b[0;31mNameError\u001b[0m: name 'a' is not defined"
     ]
    }
   ],
   "source": [
    "a"
   ]
  },
  {
   "cell_type": "markdown",
   "id": "409d9ccd-c3de-4d38-9488-50511ce647ba",
   "metadata": {},
   "source": [
    "## Tuples and sequences"
   ]
  },
  {
   "cell_type": "code",
   "execution_count": 63,
   "id": "b51ea1bd-b1a8-4124-8a46-994e5da9e402",
   "metadata": {},
   "outputs": [
    {
     "data": {
      "text/plain": [
       "12345"
      ]
     },
     "execution_count": 63,
     "metadata": {},
     "output_type": "execute_result"
    }
   ],
   "source": [
    "t = 12345, 54321, 'hello'\n",
    "t[0]"
   ]
  },
  {
   "cell_type": "code",
   "execution_count": 64,
   "id": "3fcae955-923d-41e9-b339-2d7bd450be6e",
   "metadata": {},
   "outputs": [
    {
     "data": {
      "text/plain": [
       "((12345, 54321, 'hello'), (1, 2, 3, 4, 5))"
      ]
     },
     "execution_count": 64,
     "metadata": {},
     "output_type": "execute_result"
    }
   ],
   "source": [
    "# tuples may be nested\n",
    "u = t, (1,2,3,4,5)\n",
    "u"
   ]
  },
  {
   "cell_type": "code",
   "execution_count": 65,
   "id": "977bdbb5-5c4c-495c-baf7-797a835ce4d8",
   "metadata": {},
   "outputs": [
    {
     "ename": "TypeError",
     "evalue": "'tuple' object does not support item assignment",
     "output_type": "error",
     "traceback": [
      "\u001b[0;31m---------------------------------------------------------------------------\u001b[0m",
      "\u001b[0;31mTypeError\u001b[0m                                 Traceback (most recent call last)",
      "Cell \u001b[0;32mIn[65], line 2\u001b[0m\n\u001b[1;32m      1\u001b[0m \u001b[38;5;66;03m#tuples are immutable\u001b[39;00m\n\u001b[0;32m----> 2\u001b[0m \u001b[43mt\u001b[49m\u001b[43m[\u001b[49m\u001b[38;5;241;43m0\u001b[39;49m\u001b[43m]\u001b[49m \u001b[38;5;241m=\u001b[39m \u001b[38;5;241m88888\u001b[39m\n",
      "\u001b[0;31mTypeError\u001b[0m: 'tuple' object does not support item assignment"
     ]
    }
   ],
   "source": [
    "#tuples are immutable\n",
    "t[0] = 88888"
   ]
  },
  {
   "cell_type": "code",
   "execution_count": 66,
   "id": "9a013e09-5df2-42c2-acdc-68a1a4557d2f",
   "metadata": {},
   "outputs": [
    {
     "data": {
      "text/plain": [
       "([1, 2, 3], [3, 2, 1])"
      ]
     },
     "execution_count": 66,
     "metadata": {},
     "output_type": "execute_result"
    }
   ],
   "source": [
    "# ...but they can contain mutable objects\n",
    "v = ([1,2,3],[3,2,1])\n",
    "v"
   ]
  },
  {
   "cell_type": "code",
   "execution_count": 71,
   "id": "b3f98a0b-8355-4307-8495-2dbcc99fea64",
   "metadata": {},
   "outputs": [
    {
     "data": {
      "text/plain": [
       "(12345, 54321, 'hello')"
      ]
     },
     "execution_count": 71,
     "metadata": {},
     "output_type": "execute_result"
    }
   ],
   "source": [
    "# reverse operation\n",
    "x, y, z = t\n",
    "t"
   ]
  },
  {
   "cell_type": "markdown",
   "id": "ce059166-f909-496e-ae28-97fd396279b9",
   "metadata": {},
   "source": [
    "## Sets\n",
    "A set is an unordered collection with no duplicate elements. Basic uses include membership testing and eliminating duplicate entries. Set objects also support mathematical operations like union, intersection, difference, and symmetric difference.\n",
    "Curly braces or the `set()` function can be used to create sets. Note: to create an empty set you have to use `set()`, not `{}`; the latter creates an empty dictionary, a data structure that we discuss in the next section.ion."
   ]
  },
  {
   "cell_type": "code",
   "execution_count": 72,
   "id": "03b72890-fbea-4830-848f-496ce212c2e8",
   "metadata": {},
   "outputs": [
    {
     "name": "stdout",
     "output_type": "stream",
     "text": [
      "{'pear', 'orange', 'banana', 'apple'}\n"
     ]
    }
   ],
   "source": [
    "basket = {'apple', 'orange', 'apple', 'pear', 'orange', 'banana'}\n",
    "print(basket) # duplicates will be removed"
   ]
  },
  {
   "cell_type": "code",
   "execution_count": 73,
   "id": "0a30f4bf-183a-4bee-a60a-c79d44471e21",
   "metadata": {},
   "outputs": [
    {
     "data": {
      "text/plain": [
       "True"
      ]
     },
     "execution_count": 73,
     "metadata": {},
     "output_type": "execute_result"
    }
   ],
   "source": [
    "'orange' in basket # quick membership testing"
   ]
  },
  {
   "cell_type": "code",
   "execution_count": 74,
   "id": "b3f0eba9-5f7b-4076-b2cd-cc59115da3fa",
   "metadata": {},
   "outputs": [
    {
     "data": {
      "text/plain": [
       "False"
      ]
     },
     "execution_count": 74,
     "metadata": {},
     "output_type": "execute_result"
    }
   ],
   "source": [
    "'crabgrass' in basket "
   ]
  },
  {
   "cell_type": "code",
   "execution_count": 79,
   "id": "6ea137dd-9f25-468e-a0bc-f593bd204f35",
   "metadata": {},
   "outputs": [],
   "source": [
    "a = set('abracadabra')\n",
    "b = set('alacazam')"
   ]
  },
  {
   "cell_type": "code",
   "execution_count": 80,
   "id": "47a85d6b-dc3c-4814-b630-6b9cd7d84e3d",
   "metadata": {},
   "outputs": [
    {
     "data": {
      "text/plain": [
       "{'a', 'b', 'c', 'd', 'r'}"
      ]
     },
     "execution_count": 80,
     "metadata": {},
     "output_type": "execute_result"
    }
   ],
   "source": [
    "a # unique letters in a"
   ]
  },
  {
   "cell_type": "code",
   "execution_count": 81,
   "id": "8b8c5672-405e-4c14-a017-d73b55e95d2e",
   "metadata": {},
   "outputs": [
    {
     "data": {
      "text/plain": [
       "{'a', 'c', 'l', 'm', 'z'}"
      ]
     },
     "execution_count": 81,
     "metadata": {},
     "output_type": "execute_result"
    }
   ],
   "source": [
    "b # unique letter in b"
   ]
  },
  {
   "cell_type": "code",
   "execution_count": 82,
   "id": "4e71945a-2e9a-4958-b93d-e6a4503033a3",
   "metadata": {},
   "outputs": [
    {
     "data": {
      "text/plain": [
       "{'b', 'd', 'r'}"
      ]
     },
     "execution_count": 82,
     "metadata": {},
     "output_type": "execute_result"
    }
   ],
   "source": [
    "a - b # letters in a but not in b"
   ]
  },
  {
   "cell_type": "code",
   "execution_count": 84,
   "id": "c3d26749-9453-4987-b9a2-c47419446efd",
   "metadata": {},
   "outputs": [
    {
     "data": {
      "text/plain": [
       "{'a', 'b', 'c', 'd', 'l', 'm', 'r', 'z'}"
      ]
     },
     "execution_count": 84,
     "metadata": {},
     "output_type": "execute_result"
    }
   ],
   "source": [
    "a | b # letters in both a or b"
   ]
  },
  {
   "cell_type": "code",
   "execution_count": 85,
   "id": "7f97287d-40bc-4de8-8673-a9b38af89c18",
   "metadata": {},
   "outputs": [
    {
     "data": {
      "text/plain": [
       "{'a', 'c'}"
      ]
     },
     "execution_count": 85,
     "metadata": {},
     "output_type": "execute_result"
    }
   ],
   "source": [
    "a & b # letters in both a and b"
   ]
  },
  {
   "cell_type": "code",
   "execution_count": 86,
   "id": "53760409-8e34-4bac-bfc0-f54390f60658",
   "metadata": {},
   "outputs": [
    {
     "data": {
      "text/plain": [
       "{'b', 'd', 'l', 'm', 'r', 'z'}"
      ]
     },
     "execution_count": 86,
     "metadata": {},
     "output_type": "execute_result"
    }
   ],
   "source": [
    "a ^ b # letter in a or b but not both"
   ]
  },
  {
   "cell_type": "markdown",
   "id": "c03b468d-b23e-4700-8caf-ce0765db5b63",
   "metadata": {},
   "source": [
    "### Set comprehensions"
   ]
  },
  {
   "cell_type": "code",
   "execution_count": 87,
   "id": "12063d59-6811-418f-875b-36d81d3bd6fd",
   "metadata": {},
   "outputs": [
    {
     "data": {
      "text/plain": [
       "{'d', 'r'}"
      ]
     },
     "execution_count": 87,
     "metadata": {},
     "output_type": "execute_result"
    }
   ],
   "source": [
    "a = {x for x in 'abracadabra' if x not in 'abc'}\n",
    "a"
   ]
  },
  {
   "cell_type": "markdown",
   "id": "7564f164-a738-46d9-afd5-cbcb499e80c4",
   "metadata": {},
   "source": [
    "## Dictionaries\n",
    "\n",
    "It is best to think of a dictionary as a set of _key: value_ pairs, with the requirement that the keys are unique (within one dictionary). A pair of braces creates an empty dictionary: `{}`. Placing a comma-separated list of _key:value_ pairs within the braces adds initial _key:value_ pairs to the dictionary; this is also the way dictionaries are written on output"
   ]
  },
  {
   "cell_type": "code",
   "execution_count": 88,
   "id": "9b7ba78f-106d-422b-a7f9-eb22d1f77c49",
   "metadata": {},
   "outputs": [
    {
     "data": {
      "text/plain": [
       "{'jack': 4089, 'sape': 4139}"
      ]
     },
     "execution_count": 88,
     "metadata": {},
     "output_type": "execute_result"
    }
   ],
   "source": [
    "tel = {'jack':4089, 'sape':4139}\n",
    "tel"
   ]
  },
  {
   "cell_type": "code",
   "execution_count": 89,
   "id": "35685c9b-8c90-4985-bdc9-55f42ce83c3e",
   "metadata": {},
   "outputs": [],
   "source": [
    "tel['guido'] = 4127 # add guido to dictionary"
   ]
  },
  {
   "cell_type": "code",
   "execution_count": 90,
   "id": "98a0bd13-1eae-485b-b6a9-dc9b17cc5bad",
   "metadata": {},
   "outputs": [
    {
     "data": {
      "text/plain": [
       "{'jack': 4089, 'sape': 4139, 'guido': 4127}"
      ]
     },
     "execution_count": 90,
     "metadata": {},
     "output_type": "execute_result"
    }
   ],
   "source": [
    "tel"
   ]
  },
  {
   "cell_type": "code",
   "execution_count": 91,
   "id": "6a001ab5-715b-47b6-a82f-aa14853c60df",
   "metadata": {},
   "outputs": [
    {
     "data": {
      "text/plain": [
       "4089"
      ]
     },
     "execution_count": 91,
     "metadata": {},
     "output_type": "execute_result"
    }
   ],
   "source": [
    "tel['jack']"
   ]
  },
  {
   "cell_type": "code",
   "execution_count": 92,
   "id": "fa3bb5b1-1eda-4bab-922b-ae3d605d0880",
   "metadata": {},
   "outputs": [],
   "source": [
    "del tel['sape']"
   ]
  },
  {
   "cell_type": "code",
   "execution_count": 93,
   "id": "9f4c942b-41ef-43b1-87e9-ff878fc007ed",
   "metadata": {},
   "outputs": [
    {
     "data": {
      "text/plain": [
       "{'jack': 4089, 'guido': 4127}"
      ]
     },
     "execution_count": 93,
     "metadata": {},
     "output_type": "execute_result"
    }
   ],
   "source": [
    "tel"
   ]
  },
  {
   "cell_type": "code",
   "execution_count": 94,
   "id": "7953ce46-8877-4fc5-b171-3d075de41a03",
   "metadata": {},
   "outputs": [
    {
     "data": {
      "text/plain": [
       "{'jack': 4089, 'guido': 4127, 'irv': 4127}"
      ]
     },
     "execution_count": 94,
     "metadata": {},
     "output_type": "execute_result"
    }
   ],
   "source": [
    "tel['irv'] = 4127\n",
    "tel"
   ]
  },
  {
   "cell_type": "code",
   "execution_count": 95,
   "id": "b3300429-5105-4f2e-90df-6dd294e4c0ef",
   "metadata": {},
   "outputs": [
    {
     "data": {
      "text/plain": [
       "['jack', 'guido', 'irv']"
      ]
     },
     "execution_count": 95,
     "metadata": {},
     "output_type": "execute_result"
    }
   ],
   "source": [
    "list(tel)"
   ]
  },
  {
   "cell_type": "code",
   "execution_count": 96,
   "id": "2e33d033-db3d-46fb-98d0-55277ba835f5",
   "metadata": {},
   "outputs": [
    {
     "data": {
      "text/plain": [
       "True"
      ]
     },
     "execution_count": 96,
     "metadata": {},
     "output_type": "execute_result"
    }
   ],
   "source": [
    "'guido' in tel"
   ]
  },
  {
   "cell_type": "code",
   "execution_count": 97,
   "id": "0a620cb6-6f8a-44e3-9260-f4bd8529fae1",
   "metadata": {},
   "outputs": [
    {
     "data": {
      "text/plain": [
       "False"
      ]
     },
     "execution_count": 97,
     "metadata": {},
     "output_type": "execute_result"
    }
   ],
   "source": [
    "'jack' not in tel"
   ]
  },
  {
   "cell_type": "code",
   "execution_count": 98,
   "id": "da366b46-40f3-493c-8e5c-65a769e754cc",
   "metadata": {},
   "outputs": [
    {
     "data": {
      "text/plain": [
       "{'sape': 4139, 'guido': 4127, 'jack': 4089}"
      ]
     },
     "execution_count": 98,
     "metadata": {},
     "output_type": "execute_result"
    }
   ],
   "source": [
    "# build dictionary directly from sequences of key-value pairs\n",
    "dict([('sape',4139), ('guido',4127), ('jack',4089)])"
   ]
  },
  {
   "cell_type": "code",
   "execution_count": 100,
   "id": "e4aa446a-0993-4e54-aaad-74c53cf0a155",
   "metadata": {},
   "outputs": [
    {
     "data": {
      "text/plain": [
       "{2: 4, 4: 16, 6: 36}"
      ]
     },
     "execution_count": 100,
     "metadata": {},
     "output_type": "execute_result"
    }
   ],
   "source": [
    "# Dict comprehension\n",
    "{x:x**2 for x in (2,4,6)}"
   ]
  },
  {
   "cell_type": "code",
   "execution_count": 101,
   "id": "4a9e75f4-647a-4ba4-8179-b219fb34e515",
   "metadata": {},
   "outputs": [
    {
     "data": {
      "text/plain": [
       "{'sape': 4139, 'guido': 4127, 'jack': 4089}"
      ]
     },
     "execution_count": 101,
     "metadata": {},
     "output_type": "execute_result"
    }
   ],
   "source": [
    "# When the keys are simple strings, it is sometimes easier to specify pairs using keyword arguments\n",
    "dict(sape=4139, guido=4127, jack=4089)"
   ]
  },
  {
   "cell_type": "markdown",
   "id": "3310d939-ac12-450b-a63c-792fe34d34d2",
   "metadata": {},
   "source": [
    "## Looping techniques"
   ]
  },
  {
   "cell_type": "code",
   "execution_count": 104,
   "id": "94ae6c08-6f99-4def-a6c0-cfd106841936",
   "metadata": {},
   "outputs": [
    {
     "name": "stdout",
     "output_type": "stream",
     "text": [
      "galahad the pure\n",
      "robin the brave\n"
     ]
    }
   ],
   "source": [
    "# looping through dictionaries\n",
    "knights = {'galahad': 'the pure', 'robin':'the brave'}\n",
    "for k, v in knights.items():\n",
    "    print(k, v)"
   ]
  },
  {
   "cell_type": "code",
   "execution_count": 106,
   "id": "26de90ae-b472-4b1d-86c7-6efa52cf91b9",
   "metadata": {},
   "outputs": [
    {
     "name": "stdout",
     "output_type": "stream",
     "text": [
      "0 tic\n",
      "1 tac\n",
      "2 toe\n"
     ]
    }
   ],
   "source": [
    "# when looping through a sequence, the position index and corresponding value can be retrieved at the same time using the enumerate() function.\n",
    "for i, v in enumerate (['tic', 'tac', 'toe']):\n",
    "    print(i, v)"
   ]
  },
  {
   "cell_type": "code",
   "execution_count": 109,
   "id": "a0b5eceb-9b51-45d4-95e7-8ae1cbfaee1d",
   "metadata": {},
   "outputs": [
    {
     "name": "stdout",
     "output_type": "stream",
     "text": [
      "what is your name? it is lancelot\n",
      "what is your quest? it is the holy grail\n",
      "what is your favorite color? it is blue\n"
     ]
    }
   ],
   "source": [
    "# To loop over two or more sequences at the same time, the entries can be paired with the zip() function\n",
    "questions = ['name', 'quest', 'favorite color']\n",
    "answers = ['lancelot', 'the holy grail', 'blue']\n",
    "for q, a in zip(questions, answers):\n",
    "    print('what is your {0}? it is {1}'.format(q, a))"
   ]
  },
  {
   "cell_type": "code",
   "execution_count": 110,
   "id": "e24e1144-c0b4-4c4a-a86f-ba56b6622f8a",
   "metadata": {},
   "outputs": [
    {
     "name": "stdout",
     "output_type": "stream",
     "text": [
      "9\n",
      "7\n",
      "5\n",
      "3\n",
      "1\n"
     ]
    }
   ],
   "source": [
    "# looping over a sequence in reverse\n",
    "for i in reversed(range(1,10,2)):\n",
    "    print(i)"
   ]
  },
  {
   "cell_type": "code",
   "execution_count": 111,
   "id": "c2e623b6-4c29-4048-8583-ca0f1f667c8f",
   "metadata": {},
   "outputs": [
    {
     "name": "stdout",
     "output_type": "stream",
     "text": [
      "apple\n",
      "apple\n",
      "banana\n",
      "orange\n",
      "orange\n",
      "pear\n"
     ]
    }
   ],
   "source": [
    "# looping over a sequence in sorted order\n",
    "basket = ['apple', 'orange', 'apple', 'pear', 'orange', 'banana']\n",
    "for i in sorted(basket):\n",
    "    print(i)"
   ]
  },
  {
   "cell_type": "code",
   "execution_count": 112,
   "id": "06a8374f-039e-40e2-9f2a-70a314f82753",
   "metadata": {},
   "outputs": [
    {
     "name": "stdout",
     "output_type": "stream",
     "text": [
      "apple\n",
      "banana\n",
      "orange\n",
      "pear\n"
     ]
    }
   ],
   "source": [
    "# use set to eliminate duplicates\n",
    "for i in sorted(set(basket)):\n",
    "    print(i)"
   ]
  },
  {
   "cell_type": "code",
   "execution_count": 114,
   "id": "bab07078-014f-451a-8bfa-e3b74784041c",
   "metadata": {},
   "outputs": [
    {
     "data": {
      "text/plain": [
       "[56.2, 51.7, 55.3, 52.5, 47.8]"
      ]
     },
     "execution_count": 114,
     "metadata": {},
     "output_type": "execute_result"
    }
   ],
   "source": [
    "# If you want to change a list, create a new list instead\n",
    "import math\n",
    "raw_data = [56.2, float('NaN'), 51.7, 55.3, 52.5, float('NaN'), 47.8]\n",
    "filtered_data = []\n",
    "for value in raw_data:\n",
    "    if not math.isnan(value):\n",
    "        filtered_data.append(value)\n",
    "\n",
    "filtered_data"
   ]
  },
  {
   "cell_type": "markdown",
   "id": "020716cd-66d1-4d79-8b38-10988b96aa6c",
   "metadata": {},
   "source": [
    "# MODULES"
   ]
  },
  {
   "cell_type": "code",
   "execution_count": null,
   "id": "c1c63136-776d-4a14-b716-7fe48d7ad4c8",
   "metadata": {},
   "outputs": [],
   "source": []
  }
 ],
 "metadata": {
  "kernelspec": {
   "display_name": "Python 3 (ipykernel)",
   "language": "python",
   "name": "python3"
  },
  "language_info": {
   "codemirror_mode": {
    "name": "ipython",
    "version": 3
   },
   "file_extension": ".py",
   "mimetype": "text/x-python",
   "name": "python",
   "nbconvert_exporter": "python",
   "pygments_lexer": "ipython3",
   "version": "3.12.1"
  }
 },
 "nbformat": 4,
 "nbformat_minor": 5
}
