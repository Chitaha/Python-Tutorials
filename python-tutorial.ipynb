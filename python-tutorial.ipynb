{
 "cells": [
  {
   "cell_type": "markdown",
   "id": "65440b71-3bf3-4b1d-a3ab-d3d534cba0b7",
   "metadata": {},
   "source": [
    "# Using Python as a Calculator"
   ]
  },
  {
   "cell_type": "markdown",
   "id": "4c3d751f-131e-4840-8953-32946b1cca5d",
   "metadata": {},
   "source": [
    "## Numbers"
   ]
  },
  {
   "cell_type": "code",
   "execution_count": 1,
   "id": "bd2429a0-a800-4661-a1d3-ab2a299b5286",
   "metadata": {},
   "outputs": [
    {
     "data": {
      "text/plain": [
       "4"
      ]
     },
     "execution_count": 1,
     "metadata": {},
     "output_type": "execute_result"
    }
   ],
   "source": [
    "2 + 2"
   ]
  },
  {
   "cell_type": "code",
   "execution_count": 2,
   "id": "1c011b50-0948-47d9-a118-740e4e4e72b0",
   "metadata": {},
   "outputs": [
    {
     "data": {
      "text/plain": [
       "20"
      ]
     },
     "execution_count": 2,
     "metadata": {},
     "output_type": "execute_result"
    }
   ],
   "source": [
    "50 - 5*6"
   ]
  },
  {
   "cell_type": "code",
   "execution_count": 3,
   "id": "9209e8f9-e33b-4ccf-8998-d4f58092688a",
   "metadata": {},
   "outputs": [
    {
     "data": {
      "text/plain": [
       "5.0"
      ]
     },
     "execution_count": 3,
     "metadata": {},
     "output_type": "execute_result"
    }
   ],
   "source": [
    "(50 - 5*6) / 4"
   ]
  },
  {
   "cell_type": "code",
   "execution_count": 4,
   "id": "9aa34111-8d93-4da6-9c0f-c55742086523",
   "metadata": {},
   "outputs": [
    {
     "data": {
      "text/plain": [
       "1.6"
      ]
     },
     "execution_count": 4,
     "metadata": {},
     "output_type": "execute_result"
    }
   ],
   "source": [
    "8 / 5 # division always returns a floating point number"
   ]
  },
  {
   "cell_type": "code",
   "execution_count": 5,
   "id": "154986ef-94a2-449c-9d13-2d74ea9bb3ba",
   "metadata": {},
   "outputs": [
    {
     "data": {
      "text/plain": [
       "5.666666666666667"
      ]
     },
     "execution_count": 5,
     "metadata": {},
     "output_type": "execute_result"
    }
   ],
   "source": [
    "17 / 3 # classic division returns a float"
   ]
  },
  {
   "cell_type": "code",
   "execution_count": 6,
   "id": "09c186fc-8bc8-4866-9b2c-b7dbca4b1e60",
   "metadata": {},
   "outputs": [
    {
     "data": {
      "text/plain": [
       "5"
      ]
     },
     "execution_count": 6,
     "metadata": {},
     "output_type": "execute_result"
    }
   ],
   "source": [
    "17 // 3 # floor division discards the fractional part"
   ]
  },
  {
   "cell_type": "code",
   "execution_count": 7,
   "id": "fab67075-7388-4dc4-9c42-f955d060c503",
   "metadata": {},
   "outputs": [
    {
     "data": {
      "text/plain": [
       "2"
      ]
     },
     "execution_count": 7,
     "metadata": {},
     "output_type": "execute_result"
    }
   ],
   "source": [
    "17 % 3 # the % operator returns the remainder of the division"
   ]
  },
  {
   "cell_type": "code",
   "execution_count": 8,
   "id": "a1adf14d-adcf-447a-a6de-a416a4655411",
   "metadata": {},
   "outputs": [
    {
     "data": {
      "text/plain": [
       "17"
      ]
     },
     "execution_count": 8,
     "metadata": {},
     "output_type": "execute_result"
    }
   ],
   "source": [
    "5 * 3 + 2 # floored quotient * divisor + remainder"
   ]
  },
  {
   "cell_type": "code",
   "execution_count": 9,
   "id": "6b41f0fe-7ef9-4869-89d6-ad9caa123dfc",
   "metadata": {},
   "outputs": [
    {
     "data": {
      "text/plain": [
       "25"
      ]
     },
     "execution_count": 9,
     "metadata": {},
     "output_type": "execute_result"
    }
   ],
   "source": [
    "5 ** 2 # 5 squared"
   ]
  },
  {
   "cell_type": "code",
   "execution_count": 10,
   "id": "b75a287c-0597-41f5-8bdf-ebfc380c03fe",
   "metadata": {},
   "outputs": [
    {
     "data": {
      "text/plain": [
       "128"
      ]
     },
     "execution_count": 10,
     "metadata": {},
     "output_type": "execute_result"
    }
   ],
   "source": [
    "2 ** 7 # 2 to the power of 7"
   ]
  },
  {
   "cell_type": "code",
   "execution_count": 11,
   "id": "d2292940-201e-44ca-8203-fb40e0aa7a05",
   "metadata": {},
   "outputs": [
    {
     "data": {
      "text/plain": [
       "900"
      ]
     },
     "execution_count": 11,
     "metadata": {},
     "output_type": "execute_result"
    }
   ],
   "source": [
    "# The equal sign (=) is used to assign a value to a variable.\n",
    "width = 20\n",
    "height = 5 * 9\n",
    "width * height"
   ]
  },
  {
   "cell_type": "code",
   "execution_count": 12,
   "id": "f4adf0c2-f039-4fed-b387-8644421db63d",
   "metadata": {},
   "outputs": [
    {
     "name": "stdout",
     "output_type": "stream",
     "text": [
      "12.5625\n",
      "113.0625\n",
      "113.06\n"
     ]
    }
   ],
   "source": [
    "tax = 12.5 / 100\n",
    "price = 100.50\n",
    "print(price * tax) # 12.5625\n",
    "print(price + (price * tax)) #113.0625\n",
    "print(round(price + (price * tax),2)) #113.06"
   ]
  },
  {
   "cell_type": "markdown",
   "id": "26e114bf-62bd-4639-b588-13e773ae4e39",
   "metadata": {},
   "source": [
    "## Text"
   ]
  },
  {
   "cell_type": "markdown",
   "id": "a8fe6f8a-c2b6-4f49-b130-0b2d7800b326",
   "metadata": {},
   "source": [
    "Python can manipulate text (represented by type `str`, so-called “strings”) as well as numbers. This includes characters `“!”`, words `“rabbit”`, names `“Paris”`, sentences `“Got your back.”`, etc. `“Yay! :)”`. They can be enclosed in single quotes ('...') or double quotes (\"...\") with the same result."
   ]
  },
  {
   "cell_type": "code",
   "execution_count": 13,
   "id": "a3fa400a-cb97-4707-be79-089534f08181",
   "metadata": {},
   "outputs": [
    {
     "data": {
      "text/plain": [
       "'spam eggs'"
      ]
     },
     "execution_count": 13,
     "metadata": {},
     "output_type": "execute_result"
    }
   ],
   "source": [
    "'spam eggs' # single quotes"
   ]
  },
  {
   "cell_type": "code",
   "execution_count": 14,
   "id": "f0ed99a0-26ad-4058-a152-15c1af4f9367",
   "metadata": {},
   "outputs": [
    {
     "data": {
      "text/plain": [
       "'Paris rabbit got your back :)! Yay!'"
      ]
     },
     "execution_count": 14,
     "metadata": {},
     "output_type": "execute_result"
    }
   ],
   "source": [
    "\"Paris rabbit got your back :)! Yay!\" # double quotes"
   ]
  },
  {
   "cell_type": "code",
   "execution_count": 15,
   "id": "35a1e72d-232f-4270-8a99-cdf92c4f465e",
   "metadata": {},
   "outputs": [
    {
     "data": {
      "text/plain": [
       "'1975'"
      ]
     },
     "execution_count": 15,
     "metadata": {},
     "output_type": "execute_result"
    }
   ],
   "source": [
    "'1975' # digits and numerals enclosed in quotes are also strings"
   ]
  },
  {
   "cell_type": "code",
   "execution_count": 16,
   "id": "3bdcfd26-3806-478b-8da4-b832813e6c8b",
   "metadata": {},
   "outputs": [
    {
     "data": {
      "text/plain": [
       "\"doesn't\""
      ]
     },
     "execution_count": 16,
     "metadata": {},
     "output_type": "execute_result"
    }
   ],
   "source": [
    "'doesn\\'t' # use \\' to escape the single quote"
   ]
  },
  {
   "cell_type": "code",
   "execution_count": 17,
   "id": "5ad90d95-b944-44ea-a362-26e5823b83ad",
   "metadata": {},
   "outputs": [
    {
     "data": {
      "text/plain": [
       "\"doesn't\""
      ]
     },
     "execution_count": 17,
     "metadata": {},
     "output_type": "execute_result"
    }
   ],
   "source": [
    "\"doesn't\" # or use double quotes instead"
   ]
  },
  {
   "cell_type": "code",
   "execution_count": 18,
   "id": "5d2a7c68-8462-463f-afc3-b500ad66a97e",
   "metadata": {},
   "outputs": [
    {
     "data": {
      "text/plain": [
       "'First line. \\nSecond line.'"
      ]
     },
     "execution_count": 18,
     "metadata": {},
     "output_type": "execute_result"
    }
   ],
   "source": [
    "s = \"First line. \\nSecond line.\"\n",
    "s # without print(), special characters are included in the string\n"
   ]
  },
  {
   "cell_type": "code",
   "execution_count": 19,
   "id": "613566e5-beb7-4db1-a0bd-64f66e8dfa10",
   "metadata": {},
   "outputs": [
    {
     "name": "stdout",
     "output_type": "stream",
     "text": [
      "First line. \n",
      "Second line.\n"
     ]
    }
   ],
   "source": [
    "print(s)"
   ]
  },
  {
   "cell_type": "code",
   "execution_count": 20,
   "id": "946771f4-0c41-4e86-9c50-95c729f06027",
   "metadata": {},
   "outputs": [
    {
     "name": "stdout",
     "output_type": "stream",
     "text": [
      "C: \\some\n",
      "ame\n",
      "C: \\some\\name\n"
     ]
    }
   ],
   "source": [
    "print('C: \\some\\name') # here \\n means newline\n",
    "print(r'C: \\some\\name') # note the r before the quote"
   ]
  },
  {
   "cell_type": "code",
   "execution_count": 21,
   "id": "abb2c982-0ed0-4540-9de7-5119d655df8c",
   "metadata": {},
   "outputs": [
    {
     "name": "stdout",
     "output_type": "stream",
     "text": [
      "Usage: thingy [OPTIONS]\n",
      "-h             Display this usage message\n",
      "-H hostname    Hostname to connect to\n",
      "\n"
     ]
    }
   ],
   "source": [
    "# print string literals that span multiple lines\n",
    "print(\"\"\"\\\n",
    "Usage: thingy [OPTIONS]\n",
    "-h             Display this usage message\n",
    "-H hostname    Hostname to connect to\n",
    "\"\"\")"
   ]
  },
  {
   "cell_type": "code",
   "execution_count": 22,
   "id": "2618fac8-d471-4a17-8dcb-cf34f45e65a2",
   "metadata": {},
   "outputs": [
    {
     "data": {
      "text/plain": [
       "'unununium'"
      ]
     },
     "execution_count": 22,
     "metadata": {},
     "output_type": "execute_result"
    }
   ],
   "source": [
    "3 * 'un' + 'ium' #Strings can be concatenated (glued together) with the + operator, and repeated with *:"
   ]
  },
  {
   "cell_type": "code",
   "execution_count": 23,
   "id": "237fd605-21fb-46d6-8120-642a4bc778d4",
   "metadata": {},
   "outputs": [
    {
     "data": {
      "text/plain": [
       "'Python'"
      ]
     },
     "execution_count": 23,
     "metadata": {},
     "output_type": "execute_result"
    }
   ],
   "source": [
    "'Py' 'thon' #Two or more string literals (i.e. the ones enclosed between quotes) next to each other are automatically concatenated."
   ]
  },
  {
   "cell_type": "code",
   "execution_count": 24,
   "id": "b767e383-e851-485f-9d06-05aa36df89d2",
   "metadata": {},
   "outputs": [
    {
     "data": {
      "text/plain": [
       "'Put several strings within parentheses to have them joined together'"
      ]
     },
     "execution_count": 24,
     "metadata": {},
     "output_type": "execute_result"
    }
   ],
   "source": [
    "text = ('Put several strings within parentheses '\n",
    "       'to have them joined together')\n",
    "text"
   ]
  },
  {
   "cell_type": "markdown",
   "id": "6634e8be-f912-4314-9860-2659d5fb5a73",
   "metadata": {},
   "source": [
    "## Lists"
   ]
  },
  {
   "cell_type": "code",
   "execution_count": 25,
   "id": "b96073ce-7ef9-428e-a0ae-99aaeac0337e",
   "metadata": {},
   "outputs": [
    {
     "name": "stdout",
     "output_type": "stream",
     "text": [
      "[1, 4, 9, 16, 25]\n",
      "1\n",
      "25\n",
      "[9, 16, 25]\n"
     ]
    }
   ],
   "source": [
    "squares = [1,4,9,16,25]\n",
    "print(squares)\n",
    "print(squares[0]) # indexing returns an item\n",
    "print(squares[-1])\n",
    "print(squares[-3:]) # slicing returns a new list"
   ]
  },
  {
   "cell_type": "code",
   "execution_count": 26,
   "id": "e4bca00d-bd7a-46bd-ada8-d7cde041bd75",
   "metadata": {},
   "outputs": [
    {
     "data": {
      "text/plain": [
       "[1, 4, 9, 16, 25]"
      ]
     },
     "execution_count": 26,
     "metadata": {},
     "output_type": "execute_result"
    }
   ],
   "source": [
    "squares[:] # All slice operations return a new list containing the requested elements. This means that the following slice returns a shallow copy of the list"
   ]
  },
  {
   "cell_type": "code",
   "execution_count": 27,
   "id": "81dc4c8b-d76f-4706-8931-c054df6730c7",
   "metadata": {},
   "outputs": [
    {
     "data": {
      "text/plain": [
       "[1, 4, 9, 16, 25, 36, 49, 64, 81, 100]"
      ]
     },
     "execution_count": 27,
     "metadata": {},
     "output_type": "execute_result"
    }
   ],
   "source": [
    "# concatenate lists\n",
    "squares + [36,49,64,81,100]"
   ]
  },
  {
   "cell_type": "code",
   "execution_count": 28,
   "id": "16a32a37-f30e-46c9-be4e-1c308c6f38c3",
   "metadata": {},
   "outputs": [
    {
     "data": {
      "text/plain": [
       "[1, 8, 27, 64, 125]"
      ]
     },
     "execution_count": 28,
     "metadata": {},
     "output_type": "execute_result"
    }
   ],
   "source": [
    "# lists are mutable\n",
    "cubes = [1,8,27,65,125]\n",
    "cubes[3] = 64 #replace the wrong value\n",
    "cubes"
   ]
  },
  {
   "cell_type": "code",
   "execution_count": 29,
   "id": "9fdcf82c-334a-4e0e-883b-8cdff41549d7",
   "metadata": {},
   "outputs": [
    {
     "name": "stdout",
     "output_type": "stream",
     "text": [
      "[1, 8, 27, 64, 125, 216]\n",
      "[1, 8, 27, 64, 125, 216, 343]\n"
     ]
    }
   ],
   "source": [
    "# append to lists\n",
    "cubes.append(216)\n",
    "print(cubes)\n",
    "cubes.append(7**3)\n",
    "print(cubes)"
   ]
  },
  {
   "cell_type": "code",
   "execution_count": 30,
   "id": "8ff662bf-05f0-499f-b149-eddc21051cfa",
   "metadata": {},
   "outputs": [
    {
     "data": {
      "text/plain": [
       "['a', 'b', 'c', 'd', 'e', 'f', 'g']"
      ]
     },
     "execution_count": 30,
     "metadata": {},
     "output_type": "execute_result"
    }
   ],
   "source": [
    "# assignment slices\n",
    "letters = ['a', 'b', 'c', 'd', 'e', 'f', 'g']\n",
    "letters"
   ]
  },
  {
   "cell_type": "code",
   "execution_count": 31,
   "id": "04105254-b7db-4553-b468-b935086aca19",
   "metadata": {},
   "outputs": [
    {
     "data": {
      "text/plain": [
       "['a', 'b', 'C', 'D', 'E', 'f', 'g']"
      ]
     },
     "execution_count": 31,
     "metadata": {},
     "output_type": "execute_result"
    }
   ],
   "source": [
    "# replace some values\n",
    "letters[2:5] = ['C', 'D', 'E']\n",
    "letters"
   ]
  },
  {
   "cell_type": "code",
   "execution_count": 32,
   "id": "bd91fdba-d060-4b99-a666-39b2f6e6668f",
   "metadata": {},
   "outputs": [
    {
     "data": {
      "text/plain": [
       "['a', 'b', 'f', 'g']"
      ]
     },
     "execution_count": 32,
     "metadata": {},
     "output_type": "execute_result"
    }
   ],
   "source": [
    "# now remove them\n",
    "letters[2:5] = []\n",
    "letters"
   ]
  },
  {
   "cell_type": "code",
   "execution_count": 33,
   "id": "dfd2d30c-09de-48fa-8db3-33f4b93c3457",
   "metadata": {},
   "outputs": [
    {
     "data": {
      "text/plain": [
       "[]"
      ]
     },
     "execution_count": 33,
     "metadata": {},
     "output_type": "execute_result"
    }
   ],
   "source": [
    "# clear the list by replacing all the elements with an empty list\n",
    "letters[:] = []\n",
    "letters"
   ]
  },
  {
   "cell_type": "code",
   "execution_count": 34,
   "id": "63d84412-63cb-4d9e-b8b6-635abb863fa0",
   "metadata": {},
   "outputs": [
    {
     "data": {
      "text/plain": [
       "4"
      ]
     },
     "execution_count": 34,
     "metadata": {},
     "output_type": "execute_result"
    }
   ],
   "source": [
    "# len() function\n",
    "letters = ['a','b','c','d']\n",
    "len(letters)"
   ]
  },
  {
   "cell_type": "code",
   "execution_count": 35,
   "id": "ef55c3ca-5be5-42da-a486-6e2f02ab0c16",
   "metadata": {},
   "outputs": [
    {
     "data": {
      "text/plain": [
       "[['a', 'b', 'c'], [1, 2, 3]]"
      ]
     },
     "execution_count": 35,
     "metadata": {},
     "output_type": "execute_result"
    }
   ],
   "source": [
    "# nesting lists\n",
    "a = ['a','b','c']\n",
    "n = [1,2,3]\n",
    "x = [a,n]\n",
    "x"
   ]
  },
  {
   "cell_type": "code",
   "execution_count": 36,
   "id": "f4242655-4164-4388-b5fb-07206f736ffc",
   "metadata": {},
   "outputs": [
    {
     "data": {
      "text/plain": [
       "['a', 'b', 'c']"
      ]
     },
     "execution_count": 36,
     "metadata": {},
     "output_type": "execute_result"
    }
   ],
   "source": [
    "x[0]"
   ]
  },
  {
   "cell_type": "code",
   "execution_count": 37,
   "id": "19029c5d-f02e-414b-95c7-9e728b28dcf2",
   "metadata": {},
   "outputs": [
    {
     "data": {
      "text/plain": [
       "'b'"
      ]
     },
     "execution_count": 37,
     "metadata": {},
     "output_type": "execute_result"
    }
   ],
   "source": [
    "x[0][1]"
   ]
  },
  {
   "cell_type": "markdown",
   "id": "6756d3b6-95c0-4a85-9676-1a0faafa2266",
   "metadata": {},
   "source": [
    "# First steps towards programming"
   ]
  },
  {
   "cell_type": "code",
   "execution_count": 38,
   "id": "84220560-a7ac-47ec-8c9e-e61b96de1130",
   "metadata": {},
   "outputs": [
    {
     "name": "stdout",
     "output_type": "stream",
     "text": [
      "0\n",
      "1\n",
      "1\n",
      "2\n",
      "3\n",
      "5\n",
      "8\n"
     ]
    }
   ],
   "source": [
    "# Fibonacci series\n",
    "# the sum of 2 elements defines the next\n",
    "\n",
    "a, b = 0, 1\n",
    "while a < 10:\n",
    "    print(a)\n",
    "    a, b = b, a+b\n",
    "    "
   ]
  },
  {
   "cell_type": "code",
   "execution_count": 39,
   "id": "c7b59cc7-b46e-409a-98c0-dd8fcc840c0a",
   "metadata": {},
   "outputs": [
    {
     "name": "stdout",
     "output_type": "stream",
     "text": [
      "0, 1, 1, 2, 3, 5, 8, "
     ]
    }
   ],
   "source": [
    "# Fibonacci series\n",
    "# the sum of 2 elements defines the next\n",
    "\n",
    "a, b = 0, 1\n",
    "while a < 10:\n",
    "    print(a, end=\", \")\n",
    "    a, b = b, a+b"
   ]
  },
  {
   "cell_type": "markdown",
   "id": "06c02276-59f7-4033-81e2-b4f4343ff3b6",
   "metadata": {},
   "source": [
    "## `if` statements"
   ]
  },
  {
   "cell_type": "code",
   "execution_count": 43,
   "id": "b5e578d3-18c7-4ac6-b7ba-8580e5d8e8ac",
   "metadata": {},
   "outputs": [
    {
     "name": "stdin",
     "output_type": "stream",
     "text": [
      "Please enter an integer:  0\n"
     ]
    },
    {
     "name": "stdout",
     "output_type": "stream",
     "text": [
      "Zero\n"
     ]
    }
   ],
   "source": [
    "x = int(input(\"Please enter an integer: \"))\n",
    "if x < 0:\n",
    "    x = 0\n",
    "    print(\"Negative changed to zero\")\n",
    "elif x == 0:\n",
    "    print(\"Zero\")\n",
    "elif x == 1:\n",
    "    print(\"Single\")\n",
    "else:\n",
    "    print(\"More\")"
   ]
  },
  {
   "cell_type": "markdown",
   "id": "62f0eb4c-c556-4ea6-847f-5e3431e9a160",
   "metadata": {},
   "source": [
    "## `for` statements"
   ]
  },
  {
   "cell_type": "code",
   "execution_count": 44,
   "id": "47781d7a-f140-4264-97fd-78fd0d2a848a",
   "metadata": {},
   "outputs": [
    {
     "name": "stdout",
     "output_type": "stream",
     "text": [
      "cat 3\n",
      "window 6\n",
      "defenestrate 12\n"
     ]
    }
   ],
   "source": [
    "# measure some strings\n",
    "words = [\"cat\", \"window\", \"defenestrate\"]\n",
    "for w in words:\n",
    "    print(w, len(w))"
   ]
  },
  {
   "cell_type": "code",
   "execution_count": 45,
   "id": "284d202a-5041-4dad-9848-975fc1cea6b2",
   "metadata": {},
   "outputs": [],
   "source": [
    "# Code that modifies a collection while iterating over that same collection can be tricky to get right. Instead, it is usually more straight-forward to loop over a copy of the collection or to create a new collection:\n",
    "# create a sample collection\n",
    "users = {'Hans': 'active', 'Elenore': 'inactive', 'Sarah': 'active'}\n",
    "\n",
    "#strategy: Iterate over a copy\n",
    "for user, status in users.copy().items():\n",
    "    if status == 'inactive':\n",
    "        del users[user]\n",
    "        \n",
    "#strategy: create a new collection\n",
    "active_users = {}\n",
    "for user, status in users.items():\n",
    "    if status == 'active':\n",
    "        active_users[user] = status"
   ]
  },
  {
   "cell_type": "markdown",
   "id": "fb77538c-72df-4f39-ace9-0e22cd9d07e4",
   "metadata": {},
   "source": [
    "## The `range()` function"
   ]
  },
  {
   "cell_type": "code",
   "execution_count": 46,
   "id": "f65726b8-bdd9-4566-8469-667823323666",
   "metadata": {},
   "outputs": [
    {
     "data": {
      "text/plain": [
       "[5, 6, 7, 8, 9]"
      ]
     },
     "execution_count": 46,
     "metadata": {},
     "output_type": "execute_result"
    }
   ],
   "source": [
    "list(range(5,10))"
   ]
  },
  {
   "cell_type": "code",
   "execution_count": 47,
   "id": "3abdf7eb-c7e3-4397-af1b-a140155d38e1",
   "metadata": {},
   "outputs": [
    {
     "data": {
      "text/plain": [
       "[0, 3, 6, 9]"
      ]
     },
     "execution_count": 47,
     "metadata": {},
     "output_type": "execute_result"
    }
   ],
   "source": [
    "list(range(0,10,3))"
   ]
  },
  {
   "cell_type": "code",
   "execution_count": 48,
   "id": "9cfa9f5a-c704-4597-8d76-b711bebecb03",
   "metadata": {},
   "outputs": [
    {
     "data": {
      "text/plain": [
       "[-10, -40, -70]"
      ]
     },
     "execution_count": 48,
     "metadata": {},
     "output_type": "execute_result"
    }
   ],
   "source": [
    "list(range(-10,-100,-30))"
   ]
  },
  {
   "cell_type": "code",
   "execution_count": 49,
   "id": "7b19d232-5025-4321-8742-e8af227b4466",
   "metadata": {},
   "outputs": [
    {
     "name": "stdout",
     "output_type": "stream",
     "text": [
      "0 Mary\n",
      "1 had\n",
      "2 a\n",
      "3 little\n",
      "4 lamb\n"
     ]
    }
   ],
   "source": [
    "a = ['Mary', 'had', 'a', 'little', 'lamb']\n",
    "for i in range(len(a)):\n",
    "    print(i, a[i])"
   ]
  },
  {
   "cell_type": "code",
   "execution_count": 50,
   "id": "43017f7b-1bad-4eee-a412-9f6b0dc58ac8",
   "metadata": {},
   "outputs": [
    {
     "data": {
      "text/plain": [
       "range(0, 10)"
      ]
     },
     "execution_count": 50,
     "metadata": {},
     "output_type": "execute_result"
    }
   ],
   "source": [
    "range(10)"
   ]
  },
  {
   "cell_type": "code",
   "execution_count": 51,
   "id": "2452ba84-bffe-48c6-912c-73a8d8376a5b",
   "metadata": {},
   "outputs": [
    {
     "data": {
      "text/plain": [
       "6"
      ]
     },
     "execution_count": 51,
     "metadata": {},
     "output_type": "execute_result"
    }
   ],
   "source": [
    "sum(range(4)) # 0+1+2+3"
   ]
  },
  {
   "cell_type": "markdown",
   "id": "4d419d69-48ac-4c7e-ba04-d27027d7f3c2",
   "metadata": {},
   "source": [
    "## `break` and `continue` statements, and `else` clauses on loops\n",
    "- The `break` statement breaks out of the innermost enclosing `for` or `while` loop.\n",
    "- A `for` or `while` loop can include an `else` clause.\n",
    "- In a `for` loop, the `else` clause is executed after the loop reaches its final iteration.\n",
    "- In a `while` loop, it’s executed after the loop’s condition becomes false.\n",
    "- In either kind of loop, the `else` clause is not executed if the loop was terminated by a break.\n",
    "- This is exemplified in the following for loop, which searches for prime numbers"
   ]
  },
  {
   "cell_type": "code",
   "execution_count": 52,
   "id": "499f1bc2-85dd-49e8-9f54-8950bb3c5d19",
   "metadata": {},
   "outputs": [
    {
     "name": "stdout",
     "output_type": "stream",
     "text": [
      "2 is a prime number\n",
      "3 is a prime number\n",
      "4 equals 2 * 2\n",
      "5 is a prime number\n",
      "6 equals 2 * 3\n",
      "7 is a prime number\n",
      "8 equals 2 * 4\n",
      "9 equals 3 * 3\n"
     ]
    }
   ],
   "source": [
    "for n in range(2,10):\n",
    "    for x in range(2,n):\n",
    "        if n % x == 0:\n",
    "            print(n, 'equals', x, '*', n//x)\n",
    "            break\n",
    "    else:\n",
    "        # loop fell through without finding a factor\n",
    "        print(n, 'is a prime number')"
   ]
  },
  {
   "cell_type": "code",
   "execution_count": 53,
   "id": "709bbc0f-177e-48de-8a18-2db51722b76e",
   "metadata": {},
   "outputs": [
    {
     "name": "stdout",
     "output_type": "stream",
     "text": [
      "Found an even number 2\n",
      "Found an odd number 3\n",
      "Found an even number 4\n",
      "Found an odd number 5\n",
      "Found an even number 6\n",
      "Found an odd number 7\n",
      "Found an even number 8\n",
      "Found an odd number 9\n"
     ]
    }
   ],
   "source": [
    "# continue statement\n",
    "for num in range(2, 10):\n",
    "    if num % 2 == 0:\n",
    "        print('Found an even number', num)\n",
    "        continue\n",
    "    print('Found an odd number', num)"
   ]
  },
  {
   "cell_type": "markdown",
   "id": "69d215a1-3cd5-439a-a7e3-1486a7941c32",
   "metadata": {},
   "source": [
    "## `pass`statements"
   ]
  },
  {
   "cell_type": "code",
   "execution_count": 54,
   "id": "1b326970-ffe2-4bd5-892b-f6bfa8fd4903",
   "metadata": {},
   "outputs": [],
   "source": [
    "# # The pass statement does nothing. It can be used when a statement is required syntactically but the program requires no action. For example:\n",
    "# while True:\n",
    "#     pass # Busy-wait for keyboard interrupt (Ctrl+C)\n",
    "\n",
    "# # This is commonly used for creating minimal classes:\n",
    "# class MyEmptyClass:\n",
    "#     pass\n",
    "\n",
    "# # Another place pass can be used is as a place-holder for a function or conditional body when you are working on new code, allowing you to keep thinking at a more abstract level. The pass is silently ignored:\n",
    "# def initlog(*args):\n",
    "#     pass # Remember to implement this!"
   ]
  },
  {
   "cell_type": "markdown",
   "id": "9b0b5300-fc98-4124-9762-4bb90011bbaa",
   "metadata": {},
   "source": [
    "## `match` statements\n",
    "A match statement takes an expression and compares its value to successive patterns given as one or more case blocks"
   ]
  },
  {
   "cell_type": "code",
   "execution_count": 4,
   "id": "68f3791e-3b31-490b-a182-d6eb12a06bd0",
   "metadata": {},
   "outputs": [
    {
     "data": {
      "text/plain": [
       "'Bad request'"
      ]
     },
     "execution_count": 4,
     "metadata": {},
     "output_type": "execute_result"
    }
   ],
   "source": [
    "def http_error(status):\n",
    "    match status:\n",
    "        case 400:\n",
    "            return \"Bad request\"\n",
    "        case 404:\n",
    "            return \"Not found\"\n",
    "        case 418:\n",
    "            return \"I'm a teapot\"\n",
    "        case _:\n",
    "            return \"Something's wrong with the internet\"\n",
    "\n",
    "http_error(400)"
   ]
  },
  {
   "cell_type": "code",
   "execution_count": 5,
   "id": "d21c710a-bbd9-418d-96f6-44fd32aeabf8",
   "metadata": {},
   "outputs": [
    {
     "data": {
      "text/plain": [
       "'Not allowed'"
      ]
     },
     "execution_count": 5,
     "metadata": {},
     "output_type": "execute_result"
    }
   ],
   "source": [
    "# You can combine several literals in a single pattern using | (“or”)\n",
    "def http_error(status):\n",
    "    match status:\n",
    "        case 401 | 403 | 404:\n",
    "            return \"Not allowed\"\n",
    "\n",
    "http_error(403)"
   ]
  },
  {
   "cell_type": "code",
   "execution_count": 18,
   "id": "bd5976ec-43df-4389-a067-1d7dac443915",
   "metadata": {},
   "outputs": [],
   "source": [
    "# Patterns can look like unpacking assignments, and can be used to bind variables:\n",
    "# point is an (x, y) tuple\n",
    "class Point:\n",
    "    def __init__(self,x,y):\n",
    "        self.x = x\n",
    "        self.y = y\n",
    "\n",
    "def where_is(point):\n",
    "    match point:\n",
    "        case (0,0):\n",
    "            print('Origin')\n",
    "        case (0,y):\n",
    "            print(f\"Y = {y}\")\n",
    "        case (x,0):\n",
    "            print(f\"X = {x}\")\n",
    "        case (x, y):\n",
    "            print(f\"X = {x}, Y = {y}\")\n",
    "        case _:\n",
    "            raise ValueError(\"Not a point\")\n",
    "\n",
    "# Point(1, var)\n",
    "# Point(1, y=var)\n",
    "# Point(x=1, y=var)\n",
    "# Point(y=var, x=1)"
   ]
  },
  {
   "cell_type": "markdown",
   "id": "0fbd5f9c-bf69-4310-9cad-568e0835469e",
   "metadata": {},
   "source": [
    "## Defining functions"
   ]
  },
  {
   "cell_type": "code",
   "execution_count": 25,
   "id": "0596ba42-e75f-4e68-8348-a8d70f23fd2b",
   "metadata": {},
   "outputs": [
    {
     "data": {
      "text/plain": [
       "[0, 1, 1, 2, 3, 5, 8, 13, 21, 34, 55, 89, 144, 233, 377, 610, 987, 1597, 2584]"
      ]
     },
     "execution_count": 25,
     "metadata": {},
     "output_type": "execute_result"
    }
   ],
   "source": [
    "# Fibonacci series function\n",
    "def fib(n):\n",
    "    '''Print a fibonacci series up to n'''\n",
    "    result = []\n",
    "    a, b = 0, 1\n",
    "    while a < n:\n",
    "        result.append(a)\n",
    "        a, b = b, a+b\n",
    "    return result\n",
    "\n",
    "fib(3000)"
   ]
  },
  {
   "cell_type": "markdown",
   "id": "c913fcad-1fb0-4ff5-a0d0-36c57af7acef",
   "metadata": {},
   "source": [
    "### Default argument values\n",
    "Specifying a value for one or more arguments. This function can be called with fewer arguments than it is defined to allow"
   ]
  },
  {
   "cell_type": "code",
   "execution_count": 27,
   "id": "1be7c8a5-9abb-4329-ada3-2a771b657730",
   "metadata": {},
   "outputs": [],
   "source": [
    "def ask_ok(prompt, retries=4, reminder='Please try again!'):\n",
    "    while True:\n",
    "        ok = input(prompt)\n",
    "        if ok in ('y', 'ye', 'yes'):\n",
    "            return True\n",
    "        if ok in ('n', 'no', 'nop', 'nope'):\n",
    "            return False\n",
    "        retries = retries-1\n",
    "        if retries < 0:\n",
    "            raise ValueError('invalid user response')\n",
    "        print(reminder)"
   ]
  },
  {
   "cell_type": "markdown",
   "id": "58c9f903-7910-4d75-a54c-678ed0e47ecc",
   "metadata": {},
   "source": [
    "This function can be called in several ways:\n",
    "- giving only the mandatory argument: `ask_ok('Do you really want to quit?')`\n",
    "- giving one of the optional arguments: `ask_ok('OK to overwrite the file?', 2)`\n",
    "- or even giving all arguments: `ask_ok('OK to overwrite the file?', 2, 'Come on,\n",
    "only yes or no!')`\n",
    "\n",
    "**Important warning:** The default value is evaluated only once. This makes a difference when the default is a mutable\r\n",
    "object such as a list, dictionary, or instances of most classes."
   ]
  },
  {
   "cell_type": "code",
   "execution_count": 32,
   "id": "2e3f8512-2246-4c80-9ef8-2d08a6c57711",
   "metadata": {
    "editable": true,
    "slideshow": {
     "slide_type": ""
    },
    "tags": []
   },
   "outputs": [
    {
     "name": "stdin",
     "output_type": "stream",
     "text": [
      "Do you really want to quit? n\n"
     ]
    },
    {
     "data": {
      "text/plain": [
       "False"
      ]
     },
     "execution_count": 32,
     "metadata": {},
     "output_type": "execute_result"
    }
   ],
   "source": [
    "ask_ok('Do you really want to quit?')"
   ]
  },
  {
   "cell_type": "markdown",
   "id": "1ad73c36-a75d-4fd4-b822-3a62a0374f8d",
   "metadata": {},
   "source": [
    "### Keyword arguments"
   ]
  },
  {
   "cell_type": "code",
   "execution_count": 35,
   "id": "6d335647-f9af-4f54-a485-31fd567f5b84",
   "metadata": {},
   "outputs": [
    {
     "name": "stdout",
     "output_type": "stream",
     "text": [
      "1 positional argument\n",
      "-- This parrot wouldn't voom if you put 1000 volts through it.\n",
      "-- Lovely plumage, the Norwegian Blue\n",
      "-- It's a stiff !\n",
      "1 keyword argument\n",
      "-- This parrot wouldn't voom if you put 1000 volts through it.\n",
      "-- Lovely plumage, the Norwegian Blue\n",
      "-- It's a stiff !\n",
      "2 keyword arguments\n",
      "-- This parrot wouldn't VOOOOOM if you put 1000000 volts through it.\n",
      "-- Lovely plumage, the Norwegian Blue\n",
      "-- It's a stiff !\n",
      "2 keyword arguments\n",
      "-- This parrot wouldn't VOOOOOM if you put 1000000 volts through it.\n",
      "-- Lovely plumage, the Norwegian Blue\n",
      "-- It's a stiff !\n",
      "3 positional arguments\n",
      "-- This parrot wouldn't jump if you put a million volts through it.\n",
      "-- Lovely plumage, the Norwegian Blue\n",
      "-- It's bereft of life !\n",
      "1 positional, 1 keyword\n",
      "-- This parrot wouldn't voom if you put a thousand volts through it.\n",
      "-- Lovely plumage, the Norwegian Blue\n",
      "-- It's pushing up the daisies !\n"
     ]
    }
   ],
   "source": [
    "def parrot(voltage, state='a stiff', action='voom', type='Norwegian Blue'):\n",
    "    print(\"-- This parrot wouldn't\", action, end=' ')\n",
    "    print(\"if you put\", voltage, \"volts through it.\")\n",
    "    print(\"-- Lovely plumage, the\", type)\n",
    "    print(\"-- It's\", state, \"!\")\n",
    "# accepts one required argument (voltage) and three optional arguments (state, action, and type). This function can be called in any of the following way\n",
    "print('1 positional argument')\n",
    "parrot(1000) # 1 positional argument\n",
    "print('1 keyword argument')\n",
    "parrot(voltage=1000) # 1 keyword argument\n",
    "print('2 keyword arguments')\n",
    "parrot(voltage=1000000, action='VOOOOOM') # 2 keyword arguments\n",
    "print('2 keyword arguments')\n",
    "parrot(action='VOOOOOM', voltage=1000000) # 2 keyword arguments\n",
    "print('3 positional arguments')\n",
    "parrot('a million', 'bereft of life', 'jump') # 3 positional arguments\n",
    "print('1 positional, 1 keyword')\n",
    "parrot('a thousand', state='pushing up the daisies') # 1 positional, 1 keyword"
   ]
  },
  {
   "cell_type": "code",
   "execution_count": 40,
   "id": "506d9525-62ce-47de-bfcd-a8f7d855ac9e",
   "metadata": {},
   "outputs": [
    {
     "name": "stdout",
     "output_type": "stream",
     "text": [
      "---Do you have any  Limburger ?\n",
      "---I'm sorry we are all out of Limburger .\n",
      "It is very runny sir.\n",
      "It is really very VERY runny sir.\n",
      "----------------------------------------\n",
      "shopkeeper : Michael Palin\n",
      "client : John Cleese\n",
      "sketch : Cheese shop sketch\n"
     ]
    }
   ],
   "source": [
    "def cheeseshop(kind, *arguments, **keywords):\n",
    "    print('---Do you have any ', kind, '?')\n",
    "    print('---I\\'m sorry we are all out of', kind,'.')\n",
    "    for arg in arguments:\n",
    "        print(arg)\n",
    "    print('-'*40)\n",
    "    for kw in keywords:\n",
    "        print(kw,':', keywords[kw])\n",
    "\n",
    "# Note that the order in which the keyword arguments are printed is guaranteed to match the order in which they were provided in the function call\n",
    "cheeseshop('Limburger', 'It is very runny sir.', 'It is really very VERY runny sir.',\n",
    "          shopkeeper = 'Michael Palin',\n",
    "          client = 'John Cleese',\n",
    "          sketch ='Cheese shop sketch')"
   ]
  },
  {
   "cell_type": "markdown",
   "id": "bd6adcf4-9425-44f1-a9a2-2b60328176dd",
   "metadata": {},
   "source": [
    "### Arbitrary argument lists"
   ]
  },
  {
   "cell_type": "code",
   "execution_count": 45,
   "id": "04a886b4-47e9-499e-98da-d934920f3f01",
   "metadata": {},
   "outputs": [
    {
     "data": {
      "text/plain": [
       "'earth/mars/venus'"
      ]
     },
     "execution_count": 45,
     "metadata": {},
     "output_type": "execute_result"
    }
   ],
   "source": [
    "def concat(*args, sep=\"/\"):\n",
    "    return sep.join(args)\n",
    "\n",
    "concat(\"earth\", \"mars\", \"venus\")"
   ]
  },
  {
   "cell_type": "code",
   "execution_count": 46,
   "id": "c71c1bad-4946-4cea-84d3-00b20c37efe2",
   "metadata": {},
   "outputs": [
    {
     "data": {
      "text/plain": [
       "'earth.mars.venus'"
      ]
     },
     "execution_count": 46,
     "metadata": {},
     "output_type": "execute_result"
    }
   ],
   "source": [
    "concat(\"earth\", \"mars\", \"venus\", sep=\".\")"
   ]
  },
  {
   "cell_type": "markdown",
   "id": "24846f50-c788-407a-91cb-4265c11ad233",
   "metadata": {},
   "source": [
    "### Unpacking argument lists"
   ]
  },
  {
   "cell_type": "code",
   "execution_count": null,
   "id": "e443e7a9-832e-4bff-a78b-e4bae25cb9aa",
   "metadata": {},
   "outputs": [],
   "source": []
  }
 ],
 "metadata": {
  "kernelspec": {
   "display_name": "Python 3 (ipykernel)",
   "language": "python",
   "name": "python3"
  },
  "language_info": {
   "codemirror_mode": {
    "name": "ipython",
    "version": 3
   },
   "file_extension": ".py",
   "mimetype": "text/x-python",
   "name": "python",
   "nbconvert_exporter": "python",
   "pygments_lexer": "ipython3",
   "version": "3.12.1"
  }
 },
 "nbformat": 4,
 "nbformat_minor": 5
}
