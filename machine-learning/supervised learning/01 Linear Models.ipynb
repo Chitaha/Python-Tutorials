{
 "cells": [
  {
   "cell_type": "markdown",
   "id": "1b914a0c-d7b3-4c90-a0af-ce1762b6b43f",
   "metadata": {},
   "source": [
    "# Linear Models\n",
    "Methods intended for regression in which the target value is expected to be a linear combination of the features. "
   ]
  },
  {
   "cell_type": "markdown",
   "id": "7d9870ef-948a-4dae-95bd-5eda0e9e767d",
   "metadata": {},
   "source": [
    "## Ordinary Least Squares"
   ]
  },
  {
   "cell_type": "markdown",
   "id": "755c46c8-2714-4de8-9579-f8187cdbb8ce",
   "metadata": {},
   "source": [
    "## Ridge regression and classification"
   ]
  },
  {
   "cell_type": "markdown",
   "id": "8d0e69f9-e8b0-4979-89a9-bbafbaba3865",
   "metadata": {},
   "source": [
    "## Lasso"
   ]
  },
  {
   "cell_type": "markdown",
   "id": "1e5f68f1-4aa6-4778-9871-80869b620b5a",
   "metadata": {},
   "source": [
    "## Multi-task Lasso"
   ]
  },
  {
   "cell_type": "markdown",
   "id": "75141aa1-979a-48e9-b9bd-f92f6ee2a2bc",
   "metadata": {},
   "source": [
    "## Elastic-Net"
   ]
  },
  {
   "cell_type": "markdown",
   "id": "e691372b-7c52-4a58-9fed-f0a141f7689f",
   "metadata": {},
   "source": [
    "## Multi-task Elastic-Net"
   ]
  },
  {
   "cell_type": "markdown",
   "id": "9805d08f-0efe-4fce-8009-7ab3509d5219",
   "metadata": {},
   "source": [
    "## Least Angle Regression"
   ]
  },
  {
   "cell_type": "markdown",
   "id": "78b368f1-9b24-4503-b165-1529c8d8251a",
   "metadata": {},
   "source": [
    "## LARS Lasso"
   ]
  },
  {
   "cell_type": "markdown",
   "id": "c94eb050-04fc-48e6-bb04-b4e6f02ee355",
   "metadata": {},
   "source": [
    "## Orthogonal Matching Pursuit (OMP)"
   ]
  },
  {
   "cell_type": "markdown",
   "id": "ce8fbc70-c89b-4481-9725-43654ab30956",
   "metadata": {},
   "source": [
    "## Bayesian Regression"
   ]
  },
  {
   "cell_type": "markdown",
   "id": "cdd78aaf-d44f-4790-a28f-e7e2cc037424",
   "metadata": {},
   "source": [
    "## Logistic regression"
   ]
  },
  {
   "cell_type": "markdown",
   "id": "ee2b08ae-9512-48bb-b0b5-9f15dcfbf63c",
   "metadata": {},
   "source": [
    "## Generalized Linear Models"
   ]
  },
  {
   "cell_type": "markdown",
   "id": "ab9a9a68-7c0f-498f-b9e8-87c3ce117b10",
   "metadata": {},
   "source": [
    "## Stochastic Gradient Descent - SGD"
   ]
  },
  {
   "cell_type": "markdown",
   "id": "984644c1-889b-4de9-8aad-dca4418a04ea",
   "metadata": {},
   "source": [
    "## Perceptron"
   ]
  },
  {
   "cell_type": "markdown",
   "id": "c842ca30-fb43-4804-bad1-f9b84be63638",
   "metadata": {},
   "source": [
    "## Passive Aggressive Algorithms"
   ]
  },
  {
   "cell_type": "markdown",
   "id": "40e34e52-a4ad-4ca3-a24c-14fb8a85d153",
   "metadata": {},
   "source": [
    "## Robustness regression: outliers and modeling errors"
   ]
  },
  {
   "cell_type": "markdown",
   "id": "120cb5cb-04ff-455b-8373-e47c8a3dfb39",
   "metadata": {},
   "source": [
    "## Quantile Regression"
   ]
  },
  {
   "cell_type": "markdown",
   "id": "036025a7-850d-40f6-bc5c-c3c746d3613c",
   "metadata": {},
   "source": [
    "## Polynomial regression: extending linear models with basis functions"
   ]
  },
  {
   "cell_type": "code",
   "execution_count": null,
   "id": "df590e19-37d1-467b-9de9-c75ee7420231",
   "metadata": {},
   "outputs": [],
   "source": []
  }
 ],
 "metadata": {
  "kernelspec": {
   "display_name": "Python 3 (ipykernel)",
   "language": "python",
   "name": "python3"
  },
  "language_info": {
   "codemirror_mode": {
    "name": "ipython",
    "version": 3
   },
   "file_extension": ".py",
   "mimetype": "text/x-python",
   "name": "python",
   "nbconvert_exporter": "python",
   "pygments_lexer": "ipython3",
   "version": "3.12.1"
  }
 },
 "nbformat": 4,
 "nbformat_minor": 5
}
