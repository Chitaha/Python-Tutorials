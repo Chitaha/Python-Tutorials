{
 "cells": [
  {
   "cell_type": "markdown",
   "id": "0790e590-6553-461b-9687-79e0891183be",
   "metadata": {},
   "source": [
    "# INPUT AND OUTPUT"
   ]
  },
  {
   "cell_type": "code",
   "execution_count": 1,
   "id": "e49fce0b-36ab-43da-9339-7fc8be7564e0",
   "metadata": {},
   "outputs": [
    {
     "name": "stdout",
     "output_type": "stream",
     "text": [
      "Results of the 2016 Referendum\n"
     ]
    }
   ],
   "source": [
    "# formatted string literals\n",
    "year = 2016\n",
    "event = 'Referendum'\n",
    "print(f'Results of the {year} {event}')"
   ]
  },
  {
   "cell_type": "code",
   "execution_count": 4,
   "id": "7f16013a-b342-469c-b555-eee2ac370861",
   "metadata": {},
   "outputs": [
    {
     "name": "stdout",
     "output_type": "stream",
     "text": [
      " 42572654 yes votes 49.67%\n"
     ]
    }
   ],
   "source": [
    "yes_votes =  42_572_654\n",
    "no_votes =  43_132_495\n",
    "\n",
    "percentage = yes_votes/(yes_votes+no_votes)\n",
    "print('{:-9} yes votes {:2.2%}'.format(yes_votes, percentage))"
   ]
  },
  {
   "cell_type": "code",
   "execution_count": 8,
   "id": "fe07b0dc-f957-48f3-b54e-9a47c86fcb88",
   "metadata": {},
   "outputs": [
    {
     "name": "stdout",
     "output_type": "stream",
     "text": [
      "The value of pi is approximately 3.14\n"
     ]
    }
   ],
   "source": [
    "import math\n",
    "print(f'The value of pi is approximately {math.pi:.2f}') #.2f returns 2 decimal places"
   ]
  },
  {
   "cell_type": "code",
   "execution_count": 9,
   "id": "3334d085-8547-4638-a113-2d82667e3470",
   "metadata": {},
   "outputs": [
    {
     "name": "stdout",
     "output_type": "stream",
     "text": [
      "Sjoerd     ===>       4127\n",
      "Jack       ===>       4098\n",
      "Dcab       ===>       7678\n"
     ]
    }
   ],
   "source": [
    "table = {'Sjoerd':4127, 'Jack':4098, 'Dcab':7678}\n",
    "for name, phone in table.items():\n",
    "    print(f'{name:10} ===> {phone:10d}') # ':' will cause that field to be a minimum number of characters wide, useful for making columns line up"
   ]
  },
  {
   "cell_type": "code",
   "execution_count": 11,
   "id": "234b0a14-fa1c-4801-bd02-03d7343aa454",
   "metadata": {},
   "outputs": [
    {
     "name": "stdout",
     "output_type": "stream",
     "text": [
      "Debugging bugs='roaches' count=13 area='living room'\n"
     ]
    }
   ],
   "source": [
    "# The = specifier can be used to expand an expression to the text of the expression, an equal sign, then the representation of the evaluated expression\n",
    "bugs = 'roaches'\n",
    "count = 13\n",
    "area = 'living room'\n",
    "print(f'Debugging {bugs=} {count=} {area=}')"
   ]
  },
  {
   "cell_type": "markdown",
   "id": "6ee58107-49d4-4eca-b15b-db4fb128ecfc",
   "metadata": {},
   "source": [
    "## The string `format()` method"
   ]
  },
  {
   "cell_type": "code",
   "execution_count": 12,
   "id": "e25e609e-69fd-425a-aef3-02f82c9a435d",
   "metadata": {},
   "outputs": [
    {
     "name": "stdout",
     "output_type": "stream",
     "text": [
      "We are the Knights who say \"Ni!\"\n"
     ]
    }
   ],
   "source": [
    "print('We are the {} who say \"{}!\"'.format('Knights', 'Ni'))"
   ]
  },
  {
   "cell_type": "markdown",
   "id": "c17c060c-b1a7-4ee2-abf8-40d2e51da57a",
   "metadata": {},
   "source": [
    "A number in the brackets can be used to refer to the position of the object passed into the `str.format()` method."
   ]
  },
  {
   "cell_type": "code",
   "execution_count": 13,
   "id": "00fceafd-43e9-4e1f-a59f-c0194a7af2e6",
   "metadata": {},
   "outputs": [
    {
     "name": "stdout",
     "output_type": "stream",
     "text": [
      "spam and eggs\n"
     ]
    }
   ],
   "source": [
    "print('{0} and {1}'.format('spam','eggs'))"
   ]
  },
  {
   "cell_type": "code",
   "execution_count": 14,
   "id": "6f53c7a9-35d5-4069-a8b8-4eb9760475a6",
   "metadata": {},
   "outputs": [
    {
     "name": "stdout",
     "output_type": "stream",
     "text": [
      "eggs and  spam\n"
     ]
    }
   ],
   "source": [
    "print('{1} and  {0}'.format('spam', 'eggs'))"
   ]
  },
  {
   "cell_type": "markdown",
   "id": "87a397a2-fdcd-461b-8e28-56a536a9a9d0",
   "metadata": {},
   "source": [
    "If keyword arguments are used in the `str.format()` method, their values are referred to by using the name of\n",
    "the argument."
   ]
  },
  {
   "cell_type": "code",
   "execution_count": 15,
   "id": "fe97ac9d-5af3-4ace-8078-7927abf51263",
   "metadata": {},
   "outputs": [
    {
     "name": "stdout",
     "output_type": "stream",
     "text": [
      "This spam is absolutely horrible\n"
     ]
    }
   ],
   "source": [
    "print('This {food} is {adjective}'.format(food='spam', adjective='absolutely horrible'))"
   ]
  },
  {
   "cell_type": "markdown",
   "id": "65e98ec1-7af7-482a-b15e-aef879c76348",
   "metadata": {},
   "source": [
    "If you have a really long format string that you don’t want to split up, it would be nice if you could reference the\n",
    "variables to be formatted by name instead of by position. This can be done by simply passing the dict and using\n",
    "square brackets '[]' to access the keys."
   ]
  },
  {
   "cell_type": "code",
   "execution_count": 16,
   "id": "226abc2b-47c3-42b8-aa9a-a58788e132a1",
   "metadata": {},
   "outputs": [
    {
     "name": "stdout",
     "output_type": "stream",
     "text": [
      "Jack: 4098; Sjoerd: 4127; Dcab: 8637678\n"
     ]
    }
   ],
   "source": [
    "table = {'Sjoerd': 4127, 'Jack': 4098, 'Dcab': 8637678}\n",
    "print('Jack: {0[Jack]:d}; Sjoerd: {0[Sjoerd]:d}; '\n",
    "      'Dcab: {0[Dcab]:d}'.format(table))"
   ]
  },
  {
   "cell_type": "markdown",
   "id": "d9207879-d043-4856-b46a-001b0e93ca36",
   "metadata": {},
   "source": [
    "This could also be done by passing the table dictionary as keyword arguments with the ** notation."
   ]
  },
  {
   "cell_type": "code",
   "execution_count": 17,
   "id": "393a2963-bb9c-44e8-9b21-44cefc1941d2",
   "metadata": {},
   "outputs": [
    {
     "name": "stdout",
     "output_type": "stream",
     "text": [
      "Jack: 4098; Sjoerd: 4127; Dcab: 8637678\n"
     ]
    }
   ],
   "source": [
    "table = {'Sjoerd': 4127, 'Jack': 4098, 'Dcab': 8637678}\n",
    "print('Jack: {Jack:d}; Sjoerd: {Sjoerd:d}; Dcab: {Dcab:d}'.format(**table))"
   ]
  },
  {
   "cell_type": "code",
   "execution_count": 22,
   "id": "c80e37b7-e4cb-4682-b8be-0b969f30c704",
   "metadata": {},
   "outputs": [
    {
     "name": "stdout",
     "output_type": "stream",
     "text": [
      "  1    1     1\n",
      "  2    4     8\n",
      "  3    9    27\n",
      "  4   16    64\n",
      "  5   25   125\n",
      "  6   36   216\n",
      "  7   49   343\n",
      "  8   64   512\n",
      "  9   81   729\n",
      " 10  100  1000\n"
     ]
    }
   ],
   "source": [
    "for x in range(1,11):\n",
    "    print('{0:3d} {1:4d} {2:5d}'.format(x, x**2, x**3))"
   ]
  },
  {
   "cell_type": "code",
   "execution_count": null,
   "id": "9777ea32-736b-466d-a548-cbebe3798711",
   "metadata": {
    "jupyter": {
     "source_hidden": true
    }
   },
   "outputs": [],
   "source": []
  }
 ],
 "metadata": {
  "kernelspec": {
   "display_name": "Python 3 (ipykernel)",
   "language": "python",
   "name": "python3"
  },
  "language_info": {
   "codemirror_mode": {
    "name": "ipython",
    "version": 3
   },
   "file_extension": ".py",
   "mimetype": "text/x-python",
   "name": "python",
   "nbconvert_exporter": "python",
   "pygments_lexer": "ipython3",
   "version": "3.12.1"
  }
 },
 "nbformat": 4,
 "nbformat_minor": 5
}
