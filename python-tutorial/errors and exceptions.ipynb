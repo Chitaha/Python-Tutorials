{
 "cells": [
  {
   "cell_type": "markdown",
   "id": "9f7303f3-e4bf-4ba1-a512-d9962084778e",
   "metadata": {},
   "source": [
    "# ERRORS AND EXCEPTIONS "
   ]
  },
  {
   "cell_type": "markdown",
   "id": "564d9d0f-0862-48fe-b449-18c5c43e2e63",
   "metadata": {},
   "source": [
    "## handling exceptions"
   ]
  },
  {
   "cell_type": "code",
   "execution_count": 2,
   "id": "58a65782-3226-4b43-88f6-530276d0109d",
   "metadata": {},
   "outputs": [
    {
     "name": "stdin",
     "output_type": "stream",
     "text": [
      "Please enter a number:  g\n"
     ]
    },
    {
     "name": "stdout",
     "output_type": "stream",
     "text": [
      "Opps! That was no valid number. Try again...\n"
     ]
    },
    {
     "name": "stdin",
     "output_type": "stream",
     "text": [
      "Please enter a number:  9\n"
     ]
    }
   ],
   "source": [
    "while True:\n",
    "    try:\n",
    "        x = int(input('Please enter a number: '))\n",
    "        break\n",
    "    except ValueError:\n",
    "        print('Opps! That was no valid number. Try again...')"
   ]
  },
  {
   "cell_type": "markdown",
   "id": "ef484dcc-b115-4adb-a5b7-452d96e43514",
   "metadata": {},
   "source": [
    "## defining clean-up actions"
   ]
  },
  {
   "cell_type": "code",
   "execution_count": 3,
   "id": "b2688c56-5376-4dbd-8b03-1dd7f42aa6e4",
   "metadata": {},
   "outputs": [
    {
     "name": "stdout",
     "output_type": "stream",
     "text": [
      "result is  2.0\n",
      "executing finally clause\n"
     ]
    }
   ],
   "source": [
    "def divide(x, y):\n",
    "    try:\n",
    "        result = x / y\n",
    "    except ZeroDivisionError:\n",
    "        print('division by zero!')\n",
    "    else:\n",
    "        print('result is ', result)\n",
    "    finally:\n",
    "        print('executing finally clause')\n",
    "\n",
    "divide(2,1)"
   ]
  },
  {
   "cell_type": "code",
   "execution_count": 4,
   "id": "0f8ba5d9-5e5a-4b8b-8a03-f3d66d2e8f77",
   "metadata": {},
   "outputs": [
    {
     "name": "stdout",
     "output_type": "stream",
     "text": [
      "division by zero!\n",
      "executing finally clause\n"
     ]
    }
   ],
   "source": [
    "divide(2,0)"
   ]
  },
  {
   "cell_type": "code",
   "execution_count": null,
   "id": "a00623c0-75b1-4f68-b550-1026cc7ebcb3",
   "metadata": {},
   "outputs": [],
   "source": []
  }
 ],
 "metadata": {
  "kernelspec": {
   "display_name": "Python 3 (ipykernel)",
   "language": "python",
   "name": "python3"
  },
  "language_info": {
   "codemirror_mode": {
    "name": "ipython",
    "version": 3
   },
   "file_extension": ".py",
   "mimetype": "text/x-python",
   "name": "python",
   "nbconvert_exporter": "python",
   "pygments_lexer": "ipython3",
   "version": "3.12.1"
  }
 },
 "nbformat": 4,
 "nbformat_minor": 5
}
