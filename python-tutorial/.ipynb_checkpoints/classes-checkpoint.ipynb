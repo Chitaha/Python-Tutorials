{
 "cells": [
  {
   "cell_type": "markdown",
   "id": "1ae70a8b-ca9c-469e-a0cc-c12b7aa7a502",
   "metadata": {
    "editable": true,
    "slideshow": {
     "slide_type": ""
    },
    "tags": []
   },
   "source": [
    "# CLASSES\n",
    "Classes provide a means of bundling data and functionality together. Creating a new class creates a new type of object, allowing new instances of that type to be made. Each class instance can have attributes attached to it for maintaining its state. Class instances can also have methods (defined by its class) for modifying its state."
   ]
  },
  {
   "cell_type": "markdown",
   "id": "2630a67e-edd0-4075-b36d-fae348e1def1",
   "metadata": {},
   "source": [
    "## Scopes and namespaces\n",
    "This is an example demonstrating how to reference the different scopes and namespaces, and how `global` and `nonlocal` affect variable binding:"
   ]
  },
  {
   "cell_type": "code",
   "execution_count": 2,
   "id": "9fe831d0-4773-4bb6-95f5-724c0e8e843e",
   "metadata": {},
   "outputs": [
    {
     "name": "stdout",
     "output_type": "stream",
     "text": [
      "After local assignment: test spam\n",
      "After nonlocal assignment: nonlocal spam\n",
      "After global assignment: nonlocal spam\n",
      "In global scope: global spam\n"
     ]
    }
   ],
   "source": [
    "def scope_test():\n",
    "    def do_local():\n",
    "        spam = \"local spam\"\n",
    "    def do_nonlocal():\n",
    "        nonlocal spam\n",
    "        spam = \"nonlocal spam\"\n",
    "    def do_global():\n",
    "        global spam\n",
    "        spam = \"global spam\"\n",
    "        \n",
    "    spam = \"test spam\"\n",
    "    do_local()\n",
    "    print(\"After local assignment:\", spam)\n",
    "    do_nonlocal()\n",
    "    print(\"After nonlocal assignment:\", spam)\n",
    "    do_global()\n",
    "    print(\"After global assignment:\", spam)\n",
    "\n",
    "scope_test()\n",
    "print(\"In global scope:\", spam)"
   ]
  },
  {
   "cell_type": "code",
   "execution_count": 3,
   "id": "d3ff95c5-d356-468e-908c-943cd2a3a7c9",
   "metadata": {},
   "outputs": [],
   "source": [
    "class Dog:\n",
    "\n",
    "    kind = 'canine'  # class variable shared by all instances\n",
    "\n",
    "    def __init__(self, name):\n",
    "        self.name = name  # instance variable uniques to each instance"
   ]
  },
  {
   "cell_type": "code",
   "execution_count": 4,
   "id": "bf20914f-3756-427d-a3e7-90822eec5bb7",
   "metadata": {},
   "outputs": [],
   "source": [
    "d = Dog('Fido')\n",
    "e = Dog('Buddy')"
   ]
  },
  {
   "cell_type": "code",
   "execution_count": 9,
   "id": "786a542c-0e08-417f-a4ea-0837940153d7",
   "metadata": {},
   "outputs": [
    {
     "data": {
      "text/plain": [
       "'canine'"
      ]
     },
     "execution_count": 9,
     "metadata": {},
     "output_type": "execute_result"
    }
   ],
   "source": [
    "d.kind # shared by all dogs"
   ]
  },
  {
   "cell_type": "code",
   "execution_count": 10,
   "id": "655ec017-30af-487e-98d9-b5a7a6e68ed6",
   "metadata": {},
   "outputs": [
    {
     "data": {
      "text/plain": [
       "'canine'"
      ]
     },
     "execution_count": 10,
     "metadata": {},
     "output_type": "execute_result"
    }
   ],
   "source": [
    "e.kind # shared by all dogs"
   ]
  },
  {
   "cell_type": "code",
   "execution_count": 11,
   "id": "e3416b1d-ceb7-46fb-abe1-67ccf4362fc0",
   "metadata": {},
   "outputs": [
    {
     "data": {
      "text/plain": [
       "'Fido'"
      ]
     },
     "execution_count": 11,
     "metadata": {},
     "output_type": "execute_result"
    }
   ],
   "source": [
    "d.name # unique to d"
   ]
  },
  {
   "cell_type": "code",
   "execution_count": 12,
   "id": "0da55a9e-a468-4c31-af05-8eb665dcc4be",
   "metadata": {},
   "outputs": [
    {
     "data": {
      "text/plain": [
       "'Buddy'"
      ]
     },
     "execution_count": 12,
     "metadata": {},
     "output_type": "execute_result"
    }
   ],
   "source": [
    "e.name # unique to e"
   ]
  },
  {
   "cell_type": "code",
   "execution_count": 13,
   "id": "f4899692-dcf5-486b-a848-bb247d9bfc87",
   "metadata": {},
   "outputs": [],
   "source": [
    "class Dog:\n",
    "    def __init__(self, name):\n",
    "        self.name = name\n",
    "        self.tricks = [] # creates new empty list for each dog\n",
    "\n",
    "    def add_trick(self, trick):\n",
    "        self.tricks.append(trick)"
   ]
  },
  {
   "cell_type": "code",
   "execution_count": 14,
   "id": "5545e380-8931-4986-a020-88b637497974",
   "metadata": {},
   "outputs": [],
   "source": [
    "d = Dog('Fido')\n",
    "e = Dog('Buddy')\n",
    "\n",
    "d.add_trick('roll over')\n",
    "e.add_trick('play dead')"
   ]
  },
  {
   "cell_type": "code",
   "execution_count": 15,
   "id": "1aec6caf-5e86-4256-a815-9ce84ddad7f1",
   "metadata": {},
   "outputs": [
    {
     "data": {
      "text/plain": [
       "['roll over']"
      ]
     },
     "execution_count": 15,
     "metadata": {},
     "output_type": "execute_result"
    }
   ],
   "source": [
    "d.tricks"
   ]
  },
  {
   "cell_type": "code",
   "execution_count": 16,
   "id": "edc7f31b-011d-4320-857f-e4a0726ea0c7",
   "metadata": {},
   "outputs": [
    {
     "data": {
      "text/plain": [
       "['play dead']"
      ]
     },
     "execution_count": 16,
     "metadata": {},
     "output_type": "execute_result"
    }
   ],
   "source": [
    "e.tricks"
   ]
  },
  {
   "cell_type": "markdown",
   "id": "8fcb20da-5bbf-41e8-b999-f3e3bac689bb",
   "metadata": {},
   "source": [
    "#### Random Remarks\n",
    "If the same attribute name occurs in both an instance and in a class, then attribute lookup prioritizes the instance.\n"
   ]
  },
  {
   "cell_type": "code",
   "execution_count": null,
   "id": "194e77fb-9fbb-4746-b8be-1dc6a18b2cb2",
   "metadata": {},
   "outputs": [],
   "source": []
  }
 ],
 "metadata": {
  "kernelspec": {
   "display_name": "Python 3 (ipykernel)",
   "language": "python",
   "name": "python3"
  },
  "language_info": {
   "codemirror_mode": {
    "name": "ipython",
    "version": 3
   },
   "file_extension": ".py",
   "mimetype": "text/x-python",
   "name": "python",
   "nbconvert_exporter": "python",
   "pygments_lexer": "ipython3",
   "version": "3.12.1"
  }
 },
 "nbformat": 4,
 "nbformat_minor": 5
}
